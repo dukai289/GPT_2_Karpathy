{
 "cells": [
  {
   "cell_type": "code",
   "execution_count": 1,
   "id": "677acbe0-6e95-45c4-a13b-e3e34bacbb08",
   "metadata": {
    "tags": []
   },
   "outputs": [],
   "source": [
    "import pdb"
   ]
  },
  {
   "cell_type": "code",
   "execution_count": 3,
   "id": "93ed9f32-ea95-4641-8c8d-31c90f8d79b7",
   "metadata": {
    "tags": []
   },
   "outputs": [
    {
     "name": "stdout",
     "output_type": "stream",
     "text": [
      "device = 'cpu'\n"
     ]
    }
   ],
   "source": [
    "import torch\n",
    "device = \"cpu\"\n",
    "if torch.cuda.is_available():\n",
    "    device = \"cuda\"\n",
    "elif hasattr(torch.backends, \"mps\") and torch.backends.mps.is_available():\n",
    "    device = \"mps\"\n",
    "print(f'{device = }')\n",
    "\n"
   ]
  },
  {
   "cell_type": "markdown",
   "id": "97f7affd-c63d-4ad3-a917-5cb739718c16",
   "metadata": {},
   "source": [
    "# 分析huggingface上的GPT2"
   ]
  },
  {
   "cell_type": "markdown",
   "id": "cbae0f01-5313-4dd6-b4ce-63b67e264f42",
   "metadata": {},
   "source": [
    "## 导入GPT2"
   ]
  },
  {
   "cell_type": "code",
   "execution_count": 4,
   "id": "beafc3a8-4ead-45a4-b6cc-dc7c769097ec",
   "metadata": {
    "tags": []
   },
   "outputs": [],
   "source": [
    "from transformers import GPT2LMHeadModel"
   ]
  },
  {
   "cell_type": "code",
   "execution_count": 5,
   "id": "3663b81b-05d6-4bbe-a321-f8c8fc05e4d3",
   "metadata": {
    "tags": []
   },
   "outputs": [],
   "source": [
    "model_hf = GPT2LMHeadModel.from_pretrained(\"gpt2\") # gpt2: 124M; gpt2-xl 1.5B\n",
    "sd_hf = model_hf.state_dict()"
   ]
  },
  {
   "cell_type": "markdown",
   "id": "a4621494-5739-4d7e-94d8-76c9a1ae388b",
   "metadata": {},
   "source": [
    "## 结构"
   ]
  },
  {
   "cell_type": "code",
   "execution_count": 6,
   "id": "0fc8056f-85ac-47e2-92ee-e4e405c6f9d4",
   "metadata": {
    "collapsed": true,
    "jupyter": {
     "outputs_hidden": true
    },
    "tags": []
   },
   "outputs": [
    {
     "name": "stdout",
     "output_type": "stream",
     "text": [
      "transformer.wte.weight\ttorch.Size([50257, 768])\n",
      "transformer.wpe.weight\ttorch.Size([1024, 768])\n",
      "transformer.h.0.ln_1.weight\ttorch.Size([768])\n",
      "transformer.h.0.ln_1.bias\ttorch.Size([768])\n",
      "transformer.h.0.attn.bias\ttorch.Size([1, 1, 1024, 1024])\n",
      "transformer.h.0.attn.masked_bias\ttorch.Size([])\n",
      "transformer.h.0.attn.c_attn.weight\ttorch.Size([768, 2304])\n",
      "transformer.h.0.attn.c_attn.bias\ttorch.Size([2304])\n",
      "transformer.h.0.attn.c_proj.weight\ttorch.Size([768, 768])\n",
      "transformer.h.0.attn.c_proj.bias\ttorch.Size([768])\n",
      "transformer.h.0.ln_2.weight\ttorch.Size([768])\n",
      "transformer.h.0.ln_2.bias\ttorch.Size([768])\n",
      "transformer.h.0.mlp.c_fc.weight\ttorch.Size([768, 3072])\n",
      "transformer.h.0.mlp.c_fc.bias\ttorch.Size([3072])\n",
      "transformer.h.0.mlp.c_proj.weight\ttorch.Size([3072, 768])\n",
      "transformer.h.0.mlp.c_proj.bias\ttorch.Size([768])\n",
      "transformer.h.1.ln_1.weight\ttorch.Size([768])\n",
      "transformer.h.1.ln_1.bias\ttorch.Size([768])\n",
      "transformer.h.1.attn.bias\ttorch.Size([1, 1, 1024, 1024])\n",
      "transformer.h.1.attn.masked_bias\ttorch.Size([])\n",
      "transformer.h.1.attn.c_attn.weight\ttorch.Size([768, 2304])\n",
      "transformer.h.1.attn.c_attn.bias\ttorch.Size([2304])\n",
      "transformer.h.1.attn.c_proj.weight\ttorch.Size([768, 768])\n",
      "transformer.h.1.attn.c_proj.bias\ttorch.Size([768])\n",
      "transformer.h.1.ln_2.weight\ttorch.Size([768])\n",
      "transformer.h.1.ln_2.bias\ttorch.Size([768])\n",
      "transformer.h.1.mlp.c_fc.weight\ttorch.Size([768, 3072])\n",
      "transformer.h.1.mlp.c_fc.bias\ttorch.Size([3072])\n",
      "transformer.h.1.mlp.c_proj.weight\ttorch.Size([3072, 768])\n",
      "transformer.h.1.mlp.c_proj.bias\ttorch.Size([768])\n",
      "transformer.h.2.ln_1.weight\ttorch.Size([768])\n",
      "transformer.h.2.ln_1.bias\ttorch.Size([768])\n",
      "transformer.h.2.attn.bias\ttorch.Size([1, 1, 1024, 1024])\n",
      "transformer.h.2.attn.masked_bias\ttorch.Size([])\n",
      "transformer.h.2.attn.c_attn.weight\ttorch.Size([768, 2304])\n",
      "transformer.h.2.attn.c_attn.bias\ttorch.Size([2304])\n",
      "transformer.h.2.attn.c_proj.weight\ttorch.Size([768, 768])\n",
      "transformer.h.2.attn.c_proj.bias\ttorch.Size([768])\n",
      "transformer.h.2.ln_2.weight\ttorch.Size([768])\n",
      "transformer.h.2.ln_2.bias\ttorch.Size([768])\n",
      "transformer.h.2.mlp.c_fc.weight\ttorch.Size([768, 3072])\n",
      "transformer.h.2.mlp.c_fc.bias\ttorch.Size([3072])\n",
      "transformer.h.2.mlp.c_proj.weight\ttorch.Size([3072, 768])\n",
      "transformer.h.2.mlp.c_proj.bias\ttorch.Size([768])\n",
      "transformer.h.3.ln_1.weight\ttorch.Size([768])\n",
      "transformer.h.3.ln_1.bias\ttorch.Size([768])\n",
      "transformer.h.3.attn.bias\ttorch.Size([1, 1, 1024, 1024])\n",
      "transformer.h.3.attn.masked_bias\ttorch.Size([])\n",
      "transformer.h.3.attn.c_attn.weight\ttorch.Size([768, 2304])\n",
      "transformer.h.3.attn.c_attn.bias\ttorch.Size([2304])\n",
      "transformer.h.3.attn.c_proj.weight\ttorch.Size([768, 768])\n",
      "transformer.h.3.attn.c_proj.bias\ttorch.Size([768])\n",
      "transformer.h.3.ln_2.weight\ttorch.Size([768])\n",
      "transformer.h.3.ln_2.bias\ttorch.Size([768])\n",
      "transformer.h.3.mlp.c_fc.weight\ttorch.Size([768, 3072])\n",
      "transformer.h.3.mlp.c_fc.bias\ttorch.Size([3072])\n",
      "transformer.h.3.mlp.c_proj.weight\ttorch.Size([3072, 768])\n",
      "transformer.h.3.mlp.c_proj.bias\ttorch.Size([768])\n",
      "transformer.h.4.ln_1.weight\ttorch.Size([768])\n",
      "transformer.h.4.ln_1.bias\ttorch.Size([768])\n",
      "transformer.h.4.attn.bias\ttorch.Size([1, 1, 1024, 1024])\n",
      "transformer.h.4.attn.masked_bias\ttorch.Size([])\n",
      "transformer.h.4.attn.c_attn.weight\ttorch.Size([768, 2304])\n",
      "transformer.h.4.attn.c_attn.bias\ttorch.Size([2304])\n",
      "transformer.h.4.attn.c_proj.weight\ttorch.Size([768, 768])\n",
      "transformer.h.4.attn.c_proj.bias\ttorch.Size([768])\n",
      "transformer.h.4.ln_2.weight\ttorch.Size([768])\n",
      "transformer.h.4.ln_2.bias\ttorch.Size([768])\n",
      "transformer.h.4.mlp.c_fc.weight\ttorch.Size([768, 3072])\n",
      "transformer.h.4.mlp.c_fc.bias\ttorch.Size([3072])\n",
      "transformer.h.4.mlp.c_proj.weight\ttorch.Size([3072, 768])\n",
      "transformer.h.4.mlp.c_proj.bias\ttorch.Size([768])\n",
      "transformer.h.5.ln_1.weight\ttorch.Size([768])\n",
      "transformer.h.5.ln_1.bias\ttorch.Size([768])\n",
      "transformer.h.5.attn.bias\ttorch.Size([1, 1, 1024, 1024])\n",
      "transformer.h.5.attn.masked_bias\ttorch.Size([])\n",
      "transformer.h.5.attn.c_attn.weight\ttorch.Size([768, 2304])\n",
      "transformer.h.5.attn.c_attn.bias\ttorch.Size([2304])\n",
      "transformer.h.5.attn.c_proj.weight\ttorch.Size([768, 768])\n",
      "transformer.h.5.attn.c_proj.bias\ttorch.Size([768])\n",
      "transformer.h.5.ln_2.weight\ttorch.Size([768])\n",
      "transformer.h.5.ln_2.bias\ttorch.Size([768])\n",
      "transformer.h.5.mlp.c_fc.weight\ttorch.Size([768, 3072])\n",
      "transformer.h.5.mlp.c_fc.bias\ttorch.Size([3072])\n",
      "transformer.h.5.mlp.c_proj.weight\ttorch.Size([3072, 768])\n",
      "transformer.h.5.mlp.c_proj.bias\ttorch.Size([768])\n",
      "transformer.h.6.ln_1.weight\ttorch.Size([768])\n",
      "transformer.h.6.ln_1.bias\ttorch.Size([768])\n",
      "transformer.h.6.attn.bias\ttorch.Size([1, 1, 1024, 1024])\n",
      "transformer.h.6.attn.masked_bias\ttorch.Size([])\n",
      "transformer.h.6.attn.c_attn.weight\ttorch.Size([768, 2304])\n",
      "transformer.h.6.attn.c_attn.bias\ttorch.Size([2304])\n",
      "transformer.h.6.attn.c_proj.weight\ttorch.Size([768, 768])\n",
      "transformer.h.6.attn.c_proj.bias\ttorch.Size([768])\n",
      "transformer.h.6.ln_2.weight\ttorch.Size([768])\n",
      "transformer.h.6.ln_2.bias\ttorch.Size([768])\n",
      "transformer.h.6.mlp.c_fc.weight\ttorch.Size([768, 3072])\n",
      "transformer.h.6.mlp.c_fc.bias\ttorch.Size([3072])\n",
      "transformer.h.6.mlp.c_proj.weight\ttorch.Size([3072, 768])\n",
      "transformer.h.6.mlp.c_proj.bias\ttorch.Size([768])\n",
      "transformer.h.7.ln_1.weight\ttorch.Size([768])\n",
      "transformer.h.7.ln_1.bias\ttorch.Size([768])\n",
      "transformer.h.7.attn.bias\ttorch.Size([1, 1, 1024, 1024])\n",
      "transformer.h.7.attn.masked_bias\ttorch.Size([])\n",
      "transformer.h.7.attn.c_attn.weight\ttorch.Size([768, 2304])\n",
      "transformer.h.7.attn.c_attn.bias\ttorch.Size([2304])\n",
      "transformer.h.7.attn.c_proj.weight\ttorch.Size([768, 768])\n",
      "transformer.h.7.attn.c_proj.bias\ttorch.Size([768])\n",
      "transformer.h.7.ln_2.weight\ttorch.Size([768])\n",
      "transformer.h.7.ln_2.bias\ttorch.Size([768])\n",
      "transformer.h.7.mlp.c_fc.weight\ttorch.Size([768, 3072])\n",
      "transformer.h.7.mlp.c_fc.bias\ttorch.Size([3072])\n",
      "transformer.h.7.mlp.c_proj.weight\ttorch.Size([3072, 768])\n",
      "transformer.h.7.mlp.c_proj.bias\ttorch.Size([768])\n",
      "transformer.h.8.ln_1.weight\ttorch.Size([768])\n",
      "transformer.h.8.ln_1.bias\ttorch.Size([768])\n",
      "transformer.h.8.attn.bias\ttorch.Size([1, 1, 1024, 1024])\n",
      "transformer.h.8.attn.masked_bias\ttorch.Size([])\n",
      "transformer.h.8.attn.c_attn.weight\ttorch.Size([768, 2304])\n",
      "transformer.h.8.attn.c_attn.bias\ttorch.Size([2304])\n",
      "transformer.h.8.attn.c_proj.weight\ttorch.Size([768, 768])\n",
      "transformer.h.8.attn.c_proj.bias\ttorch.Size([768])\n",
      "transformer.h.8.ln_2.weight\ttorch.Size([768])\n",
      "transformer.h.8.ln_2.bias\ttorch.Size([768])\n",
      "transformer.h.8.mlp.c_fc.weight\ttorch.Size([768, 3072])\n",
      "transformer.h.8.mlp.c_fc.bias\ttorch.Size([3072])\n",
      "transformer.h.8.mlp.c_proj.weight\ttorch.Size([3072, 768])\n",
      "transformer.h.8.mlp.c_proj.bias\ttorch.Size([768])\n",
      "transformer.h.9.ln_1.weight\ttorch.Size([768])\n",
      "transformer.h.9.ln_1.bias\ttorch.Size([768])\n",
      "transformer.h.9.attn.bias\ttorch.Size([1, 1, 1024, 1024])\n",
      "transformer.h.9.attn.masked_bias\ttorch.Size([])\n",
      "transformer.h.9.attn.c_attn.weight\ttorch.Size([768, 2304])\n",
      "transformer.h.9.attn.c_attn.bias\ttorch.Size([2304])\n",
      "transformer.h.9.attn.c_proj.weight\ttorch.Size([768, 768])\n",
      "transformer.h.9.attn.c_proj.bias\ttorch.Size([768])\n",
      "transformer.h.9.ln_2.weight\ttorch.Size([768])\n",
      "transformer.h.9.ln_2.bias\ttorch.Size([768])\n",
      "transformer.h.9.mlp.c_fc.weight\ttorch.Size([768, 3072])\n",
      "transformer.h.9.mlp.c_fc.bias\ttorch.Size([3072])\n",
      "transformer.h.9.mlp.c_proj.weight\ttorch.Size([3072, 768])\n",
      "transformer.h.9.mlp.c_proj.bias\ttorch.Size([768])\n",
      "transformer.h.10.ln_1.weight\ttorch.Size([768])\n",
      "transformer.h.10.ln_1.bias\ttorch.Size([768])\n",
      "transformer.h.10.attn.bias\ttorch.Size([1, 1, 1024, 1024])\n",
      "transformer.h.10.attn.masked_bias\ttorch.Size([])\n",
      "transformer.h.10.attn.c_attn.weight\ttorch.Size([768, 2304])\n",
      "transformer.h.10.attn.c_attn.bias\ttorch.Size([2304])\n",
      "transformer.h.10.attn.c_proj.weight\ttorch.Size([768, 768])\n",
      "transformer.h.10.attn.c_proj.bias\ttorch.Size([768])\n",
      "transformer.h.10.ln_2.weight\ttorch.Size([768])\n",
      "transformer.h.10.ln_2.bias\ttorch.Size([768])\n",
      "transformer.h.10.mlp.c_fc.weight\ttorch.Size([768, 3072])\n",
      "transformer.h.10.mlp.c_fc.bias\ttorch.Size([3072])\n",
      "transformer.h.10.mlp.c_proj.weight\ttorch.Size([3072, 768])\n",
      "transformer.h.10.mlp.c_proj.bias\ttorch.Size([768])\n",
      "transformer.h.11.ln_1.weight\ttorch.Size([768])\n",
      "transformer.h.11.ln_1.bias\ttorch.Size([768])\n",
      "transformer.h.11.attn.bias\ttorch.Size([1, 1, 1024, 1024])\n",
      "transformer.h.11.attn.masked_bias\ttorch.Size([])\n",
      "transformer.h.11.attn.c_attn.weight\ttorch.Size([768, 2304])\n",
      "transformer.h.11.attn.c_attn.bias\ttorch.Size([2304])\n",
      "transformer.h.11.attn.c_proj.weight\ttorch.Size([768, 768])\n",
      "transformer.h.11.attn.c_proj.bias\ttorch.Size([768])\n",
      "transformer.h.11.ln_2.weight\ttorch.Size([768])\n",
      "transformer.h.11.ln_2.bias\ttorch.Size([768])\n",
      "transformer.h.11.mlp.c_fc.weight\ttorch.Size([768, 3072])\n",
      "transformer.h.11.mlp.c_fc.bias\ttorch.Size([3072])\n",
      "transformer.h.11.mlp.c_proj.weight\ttorch.Size([3072, 768])\n",
      "transformer.h.11.mlp.c_proj.bias\ttorch.Size([768])\n",
      "transformer.ln_f.weight\ttorch.Size([768])\n",
      "transformer.ln_f.bias\ttorch.Size([768])\n",
      "lm_head.weight\ttorch.Size([50257, 768])\n"
     ]
    }
   ],
   "source": [
    "for k, v in sd_hf.items():\n",
    "    print(f'{k}\\t{v.shape}')"
   ]
  },
  {
   "cell_type": "markdown",
   "id": "744834f1-0c94-47a0-bb92-4cbdfd9ec36d",
   "metadata": {},
   "source": [
    "## 参数"
   ]
  },
  {
   "cell_type": "code",
   "execution_count": 7,
   "id": "46879d6e-e465-471c-9e07-e6444b86fbc8",
   "metadata": {
    "tags": []
   },
   "outputs": [
    {
     "data": {
      "text/plain": [
       "tensor([-0.0188, -0.1974,  0.0040,  0.0113,  0.0638, -0.1050,  0.0369, -0.1680,\n",
       "        -0.0491, -0.0565, -0.0025,  0.0135, -0.0042,  0.0151,  0.0166, -0.1381,\n",
       "        -0.0063, -0.0461,  0.0267, -0.2042])"
      ]
     },
     "execution_count": 7,
     "metadata": {},
     "output_type": "execute_result"
    }
   ],
   "source": [
    "sd_hf[\"transformer.wpe.weight\"].view(-1)[:20]"
   ]
  },
  {
   "cell_type": "code",
   "execution_count": 8,
   "id": "ab2f7e43-b745-4902-8b94-2f5dc78a87aa",
   "metadata": {
    "tags": []
   },
   "outputs": [],
   "source": [
    "import matplotlib.pyplot as plt\n",
    "%matplotlib inline"
   ]
  },
  {
   "cell_type": "code",
   "execution_count": 9,
   "id": "6fb1e5ff-326b-44e0-bdab-d9e1642ad457",
   "metadata": {
    "tags": []
   },
   "outputs": [
    {
     "data": {
      "text/plain": [
       "<matplotlib.image.AxesImage at 0x7f9b1a4f9b50>"
      ]
     },
     "execution_count": 9,
     "metadata": {},
     "output_type": "execute_result"
    },
    {
     "data": {
      "image/png": "[encoded data removed]",
      "text/plain": [
       "<Figure size 432x288 with 1 Axes>"
      ]
     },
     "metadata": {
      "needs_background": "light"
     },
     "output_type": "display_data"
    }
   ],
   "source": [
    "plt.imshow(sd_hf[\"transformer.wpe.weight\"], cmap=\"gray\")"
   ]
  },
  {
   "cell_type": "code",
   "execution_count": 10,
   "id": "a901ba6d-1a70-4356-9c21-ceb104dce7f6",
   "metadata": {
    "tags": []
   },
   "outputs": [
    {
     "data": {
      "text/plain": [
       "[<matplotlib.lines.Line2D at 0x7f9b1aaca550>]"
      ]
     },
     "execution_count": 10,
     "metadata": {},
     "output_type": "execute_result"
    },
    {
     "data": {
      "text/plain": [
       "[<matplotlib.lines.Line2D at 0x7f9b1aa59550>]"
      ]
     },
     "execution_count": 10,
     "metadata": {},
     "output_type": "execute_result"
    },
    {
     "data": {
      "text/plain": [
       "[<matplotlib.lines.Line2D at 0x7f9b1a4e5d00>]"
      ]
     },
     "execution_count": 10,
     "metadata": {},
     "output_type": "execute_result"
    },
    {
     "data": {
      "image/png": "[encoded data removed]",
      "text/plain": [
       "<Figure size 432x288 with 1 Axes>"
      ]
     },
     "metadata": {
      "needs_background": "light"
     },
     "output_type": "display_data"
    }
   ],
   "source": [
    "plt.plot(sd_hf[\"transformer.wpe.weight\"][:, 150])\n",
    "plt.plot(sd_hf[\"transformer.wpe.weight\"][:, 200])\n",
    "plt.plot(sd_hf[\"transformer.wpe.weight\"][:, 250])"
   ]
  },
  {
   "cell_type": "code",
   "execution_count": 11,
   "id": "6f03c04d-73fa-43c5-bb0d-9f65a30f15dc",
   "metadata": {
    "tags": []
   },
   "outputs": [
    {
     "data": {
      "text/plain": [
       "<matplotlib.image.AxesImage at 0x7f9b1ac3bfa0>"
      ]
     },
     "execution_count": 11,
     "metadata": {},
     "output_type": "execute_result"
    },
    {
     "data": {
      "image/png": "[encoded data removed]",
      "text/plain": [
       "<Figure size 432x288 with 1 Axes>"
      ]
     },
     "metadata": {
      "needs_background": "light"
     },
     "output_type": "display_data"
    }
   ],
   "source": [
    "plt.imshow(sd_hf[\"transformer.h.1.attn.c_attn.weight\"][:300, :300], cmap=\"gray\")"
   ]
  },
  {
   "cell_type": "markdown",
   "id": "1d678fcf-0520-4114-a14d-bd18eee36efe",
   "metadata": {},
   "source": [
    "## 生成"
   ]
  },
  {
   "cell_type": "code",
   "execution_count": 12,
   "id": "2f25bfcf-d3f8-4762-b758-48219b5ceefe",
   "metadata": {
    "tags": []
   },
   "outputs": [],
   "source": [
    "from transformers import pipeline, set_seed"
   ]
  },
  {
   "cell_type": "code",
   "execution_count": 13,
   "id": "4bfae9b2-b0a8-4288-b268-aebddcae0a0f",
   "metadata": {
    "tags": []
   },
   "outputs": [
    {
     "name": "stderr",
     "output_type": "stream",
     "text": [
      "Xformers is not installed correctly. If you want to use memorry_efficient_attention to accelerate training use the following command to install Xformers\n",
      "pip install xformers.\n"
     ]
    }
   ],
   "source": [
    "generator = pipeline(\"text-generation\", model = \"gpt2\")"
   ]
  },
  {
   "cell_type": "code",
   "execution_count": 14,
   "id": "f110c84a-056f-42d6-a59e-294cb840ffc1",
   "metadata": {
    "tags": []
   },
   "outputs": [
    {
     "name": "stderr",
     "output_type": "stream",
     "text": [
      "Setting `pad_token_id` to `eos_token_id`:50256 for open-end generation.\n"
     ]
    },
    {
     "data": {
      "text/plain": [
       "[{'generated_text': \"Hello, I'm a language modeler. I want it to help you to read and understand better the language models you're using, how they work\"},\n",
       " {'generated_text': \"Hello, I'm a language modeler in Google and I'm doing a lot of research on language languages. Sometimes, it is kind of awkward to\"},\n",
       " {'generated_text': \"Hello, I'm a language model scientist! My dream for this project is for students to be able to play with our favorite words and sentences from these\"},\n",
       " {'generated_text': 'Hello, I\\'m a language modeler.\"\\n\\nKhan\\'s answer is that \"There are probably some more fundamental questions to be answered before it'},\n",
       " {'generated_text': \"Hello, I'm a language model teacher, and my focus is on making a beautiful language (and, yes, learning a language is great, if\"}]"
      ]
     },
     "execution_count": 14,
     "metadata": {},
     "output_type": "execute_result"
    }
   ],
   "source": [
    "set_seed(42)\n",
    "generator(\"Hello, I'm a language model\", max_length = 30, num_return_sequences = 5)"
   ]
  },
  {
   "cell_type": "markdown",
   "id": "0572d976-ec11-46e2-b5e6-4c15edef8b4d",
   "metadata": {},
   "source": [
    "# 构建模型"
   ]
  },
  {
   "cell_type": "markdown",
   "id": "f9ef71bc-6987-4160-a746-dee188701d2c",
   "metadata": {},
   "source": [
    "GPT-2的实际实现与\"Attention Is All You Need\"论文有以下两点不同：\n",
    "+ 调整了Layer Normalization的位置：放在attention layer之前\n",
    "+ 在最后的添加了一个额外的Layer Normalization"
   ]
  },
  {
   "cell_type": "markdown",
   "id": "459fc292-ced5-4e6e-81e2-62025631460f",
   "metadata": {},
   "source": [
    "## 结构\n",
    "+ Embedding: WTE + WPE\n",
    "+ Block\n",
    "    + Layer Normalization\n",
    "    + CasualSelfAttention\n",
    "    + Residual\n",
    "    + Layer Normalization\n",
    "    + MLP\n",
    "        + Linear \n",
    "        + GELU \n",
    "        + Linear\n",
    "    + Residual\n",
    "+ Layer Normalization\n",
    "+ Head"
   ]
  },
  {
   "cell_type": "markdown",
   "id": "d19fe851-6726-47b4-b386-f64e2cf64ab7",
   "metadata": {},
   "source": [
    "## pytorch实现"
   ]
  },
  {
   "cell_type": "code",
   "execution_count": 15,
   "id": "fdcb468b-5456-43f3-84b4-ad8fa2c3f84f",
   "metadata": {
    "tags": []
   },
   "outputs": [],
   "source": [
    "from dataclasses import dataclass\n",
    "import torch\n",
    "import torch.nn as nn\n",
    "from torch.nn import functional as F\n",
    "\n",
    "import math"
   ]
  },
  {
   "cell_type": "code",
   "execution_count": 16,
   "id": "23619395-8aa1-45af-af1e-ec2e30d9f7d9",
   "metadata": {
    "tags": []
   },
   "outputs": [],
   "source": [
    "@dataclass\n",
    "class GPTConfig:\n",
    "    block_size: int = 1024 # Max sequence length\n",
    "    vocab_size: int = 50257 # number of tokens: 5000 BPE merges + 256 bytes tokens + 1 <|endoftext|> token\n",
    "    n_layer: int = 12 # number of layers\n",
    "    n_head: int = 12 # number of heads (CausalSelfAttention)\n",
    "    n_embd: int = 768 # embedding dimension"
   ]
  },
  {
   "cell_type": "code",
   "execution_count": 17,
   "id": "06802187-f5d8-402d-9e8b-4d55c7c224d7",
   "metadata": {
    "tags": []
   },
   "outputs": [],
   "source": [
    "class CausalSelfAttention(nn.Module):\n",
    "    \n",
    "    def __init__(self, config):\n",
    "        super().__init__()\n",
    "        assert config.n_embd % config.n_head == 0\n",
    "        # key, query, value projections for all heads, but in a batch\n",
    "        self.c_attn = nn.Linear(config.n_embd, 3 * config.n_embd)\n",
    "        # output projection\n",
    "        self.c_proj = nn.Linear(config.n_embd, config.n_embd)\n",
    "        # regularization\n",
    "        self.n_head = config.n_head\n",
    "        self.n_embd = config.n_embd\n",
    "        # not really a `bias`, more of a mask, but following the OpenAI/HF naming though\n",
    "        self.register_buffer(\"bias\", torch.tril(torch.ones(config.block_size, config.block_size)).view(1, 1, config.block_size, config.block_size))\n",
    "        \n",
    "    def forward(self, x):\n",
    "        B, T, C = x.size() # batch size, sequence length, embedding dimensionality (n_embd)\n",
    "        # calculate query, key, values for all heads in batch and move head forward to be the batch\n",
    "        # nh is \"number of heads\", hs is \"head size\", and C (number of channels) = nh + hs\n",
    "        # e.g. in GPT-2(124M), n_heads=2, n_head=12, hs=64, so nh*hs = C = 768 channels in the Transformer\n",
    "        qkv = self.c_attn(x)\n",
    "        q, k, v = qkv.split(self.n_embd, dim=2)\n",
    "        k = k.view(B, T, self.n_head, C // self.n_head).transpose(1, 2) # (B, nh, T, hs)\n",
    "        q = q.view(B, T, self.n_head, C // self.n_head).transpose(1, 2) # (B, nh, T, hs)\n",
    "        v = v.view(B, T, self.n_head, C // self.n_head).transpose(1, 2) # (B, nh, T, hs)\n",
    "        # attention (materializes the large (T,T) matrix for all the queries and keys\n",
    "        att = (q @ k.transpose(-2, -1)) * (1.0 / math.sqrt(k.size(-1)))\n",
    "        att = att.masked_fill(self.bias[:,:,:T,:T] == 0, float(\"-inf\"))\n",
    "        att = F.softmax(att, dim=-1)\n",
    "        y = att @ v # (B, nh, T, T) x (B, nh, T, hs) -> (B, nh, T, hs)\n",
    "        y = y.transpose(1, 2).contiguous().view(B, T, C) # re-assemble all head outputs side by side\n",
    "        # output projection\n",
    "        y = self.c_proj(y)\n",
    "        return y"
   ]
  },
  {
   "cell_type": "code",
   "execution_count": 18,
   "id": "54b4a8eb-29f9-4490-81b4-f91950c2b240",
   "metadata": {
    "tags": []
   },
   "outputs": [],
   "source": [
    "class MLP(nn.Module):\n",
    "    \n",
    "    def __init__(self, config):\n",
    "        super().__init__()\n",
    "        self.c_fc = nn.Linear(config.n_embd, 4 * config.n_embd)\n",
    "        self.gelu = nn.GELU(approximate = \"tanh\")\n",
    "        self.c_proj = nn.Linear(4 * config.n_embd, config.n_embd)\n",
    "        \n",
    "    def forward(self, x):\n",
    "        x = self.c_fc(x)\n",
    "        x = self.gelu(x)\n",
    "        x = self.c_proj(x)\n",
    "        return x"
   ]
  },
  {
   "cell_type": "code",
   "execution_count": 19,
   "id": "6a70e6df-8a5a-470f-9bb9-a30e692cac9f",
   "metadata": {
    "tags": []
   },
   "outputs": [],
   "source": [
    "class Block(nn.Module):\n",
    "    \n",
    "    def __init__(self, config):\n",
    "        super().__init__()\n",
    "        self.ln_1 = nn.LayerNorm(config.n_embd) # Layer Normalization\n",
    "        self.attn = CausalSelfAttention(config) # CasualSelfAttention\n",
    "        self.ln_2 = nn.LayerNorm(config.n_embd) # Layer Normalization\n",
    "        self.mlp = MLP(config) # MLP / FFM\n",
    "        \n",
    "    def forward(self, x):\n",
    "        x = x + self.attn(self.ln_1(x)) # residual # attention is reduce\n",
    "        x = x + self.mlp(self.ln_2(x)) # residual # MLP is map\n",
    "        return x"
   ]
  },
  {
   "cell_type": "code",
   "execution_count": 20,
   "id": "549a34e9-15b0-4920-ba8d-bf1c9d3289a6",
   "metadata": {
    "tags": []
   },
   "outputs": [],
   "source": [
    "class GPT(nn.Module):\n",
    "    \n",
    "    def __init__(self, config):\n",
    "        super().__init__()\n",
    "        self.config = config\n",
    "        \n",
    "        self.transformer = nn.ModuleDict(dict(\n",
    "            wte = nn.Embedding(config.vocab_size, config.n_embd) # Word Token Embedding\n",
    "           ,wpe = nn.Embedding(config.block_size, config.n_embd) # Word Position Embedding\n",
    "           ,h = nn.ModuleList([Block(config) for _ in range(config.n_layer)]) # Block\n",
    "           ,ln_f = nn.LayerNorm(config.n_embd) # Layer Normalization\n",
    "            ))\n",
    "        self.lm_head = nn.Linear(config.n_embd, config.vocab_size, bias=False) # Head\n",
    "    \n",
    "    def forward(self, idx):\n",
    "        # idx is of shape (B, T)\n",
    "        B, T = idx.size()\n",
    "        assert T <= self.config.block_size, f\"Cannot forward sequence of length {T}, block size is only {self.config.block_size}\"\n",
    "        # forward the token and position embeddings\n",
    "        pos = torch.arange(0, T, dtype=torch.long, device=idx.device) # shpe (T)\n",
    "        pos_emb = self.transformer.wpe(pos) # position embedding of shape (T, n_embd)\n",
    "        tok_emb = self.transformer.wte(idx) # token embedding of shape (B, T, n_embd)\n",
    "        x = tok_emb + pos_emb\n",
    "        # forward the blocks of the transformer\n",
    "        for block in self.transformer.h:\n",
    "            x = block(x)\n",
    "        # forward the final layernorm and the classifier\n",
    "        x = self.transformer.ln_f(x)\n",
    "        logits = self.lm_head(x) # (B, T, vocab_size)\n",
    "        return logits\n",
    "        \n",
    "    \n",
    "    @classmethod\n",
    "    def from_pretrained(cls, model_type):\n",
    "        \"\"\"Loads pretrained GPT-2 model weights from huggingface\"\"\"\n",
    "        assert model_type in (\"gpt2\", \"gpt2-medium\", \"gpt2-large\", \"gpt2-xl\")\n",
    "        from transformers import GPT2LMHeadModel\n",
    "        print(\"loading weights from pretrained gpt: %s\" % model_type)\n",
    "        \n",
    "        # n_layer, n_head and n_embd are determined from model_type\n",
    "        config_args = {\n",
    "            'gpt2':       dict(n_layer = 12, n_head = 12, n_embd = 768 ) # 124M\n",
    "           ,'gpt2-medium': dict(n_layer = 24, n_head = 16, n_embd = 1024) # 350M\n",
    "           ,'gpt2-large': dict(n_layer = 36, n_head = 20, n_embd = 1280) # 774M\n",
    "           ,'gpt2-xl':    dict(n_layer = 48, n_head = 25, n_embd = 1680) # 1558M        \n",
    "            }[model_type]\n",
    "        config_args['vocab_size'] = 50257 # always 50257 for GPT model checkpoints\n",
    "        config_args['block_size'] = 1024 # always 1024 for GPT model checkpoints\n",
    "        \n",
    "        # creaate a from-scratch initialized minGPT model\n",
    "        config = GPTConfig(**config_args)\n",
    "        \n",
    "        model = GPT(config)\n",
    "        sd = model.state_dict()\n",
    "        sd_keys = sd.keys()\n",
    "        sd_keys = [k for k in sd_keys if not k.endswith('.attn.bias')] # discard this mask / buffer, not a param\n",
    "        \n",
    "        # init a huggingface/transformers model\n",
    "        model_hf = GPT2LMHeadModel.from_pretrained(model_type)\n",
    "        sd_hf = model_hf.state_dict()\n",
    "        \n",
    "        # copy while ensuring all of the parameters are aligned and match in names and shapes\n",
    "        sd_keys_hf = sd_hf.keys()\n",
    "        sd_keys_hf = [k for k in sd_keys_hf if not k.endswith('.attn.masked_bias')] # ignore these, just buffer\n",
    "        sd_keys_hf = [k for k in sd_keys_hf if not k.endswith('.attn.bias')] # same, just mask(buffer)\n",
    "        transposed = ['.attn.c_attn.weight', 'attn.c_proj.weight', 'mlp.c_fc.weight', 'mlp.c_proj.weight']\n",
    "        # basically the openai checkpoints use a \"Conv1D\" module, but we only want to use a vanilla Linear\n",
    "        # this means that we have to transpose these weights when we import them\n",
    "        assert len(sd_keys_hf) == len(sd_keys), f\"mismatched keys: {len(sd_keys_hf)} != {len(sd_keys)}\"\n",
    "        for k in sd_keys_hf:\n",
    "            if any(k.endswith(w) for w in transposed):\n",
    "                # special treatment for the Conv1D weights we need to transpose\n",
    "                assert sd_hf[k].shape[::-1] == sd[k].shape\n",
    "                with torch.no_grad():\n",
    "                    sd[k].copy_(sd_hf[k].t())\n",
    "                    \n",
    "            else:\n",
    "                # vanilla copy over the other parameters\n",
    "                assert sd_hf[k].shape == sd[k].shape\n",
    "                with torch.no_grad():\n",
    "                    sd[k].copy_(sd_hf[k])\n",
    "        return model"
   ]
  },
  {
   "cell_type": "markdown",
   "id": "b0ce9e21-771f-4bb4-9cbb-5429bfff487f",
   "metadata": {},
   "source": [
    "# 复制hf-GPT的checkpoints"
   ]
  },
  {
   "cell_type": "code",
   "execution_count": 21,
   "id": "a35bb169-a72e-4103-adb2-81873aa8e125",
   "metadata": {
    "tags": []
   },
   "outputs": [
    {
     "name": "stdout",
     "output_type": "stream",
     "text": [
      "loading weights from pretrained gpt: gpt2\n",
      "didn't crash yay!\n"
     ]
    }
   ],
   "source": [
    "model = GPT.from_pretrained('gpt2')\n",
    "print(\"didn't crash yay!\")"
   ]
  },
  {
   "cell_type": "code",
   "execution_count": 22,
   "id": "12982682-ee0b-4243-95e3-4865f2d78726",
   "metadata": {
    "collapsed": true,
    "jupyter": {
     "outputs_hidden": true
    },
    "tags": []
   },
   "outputs": [
    {
     "name": "stdout",
     "output_type": "stream",
     "text": [
      "The shape of transformer.wte.weight is torch.Size([50257, 768])\n",
      "The shape of transformer.wpe.weight is torch.Size([1024, 768])\n",
      "The shape of transformer.h.0.ln_1.weight is torch.Size([768])\n",
      "The shape of transformer.h.0.ln_1.bias is torch.Size([768])\n",
      "The shape of transformer.h.0.attn.bias is torch.Size([1, 1, 1024, 1024])\n",
      "The shape of transformer.h.0.attn.c_attn.weight is torch.Size([2304, 768])\n",
      "The shape of transformer.h.0.attn.c_attn.bias is torch.Size([2304])\n",
      "The shape of transformer.h.0.attn.c_proj.weight is torch.Size([768, 768])\n",
      "The shape of transformer.h.0.attn.c_proj.bias is torch.Size([768])\n",
      "The shape of transformer.h.0.ln_2.weight is torch.Size([768])\n",
      "The shape of transformer.h.0.ln_2.bias is torch.Size([768])\n",
      "The shape of transformer.h.0.mlp.c_fc.weight is torch.Size([3072, 768])\n",
      "The shape of transformer.h.0.mlp.c_fc.bias is torch.Size([3072])\n",
      "The shape of transformer.h.0.mlp.c_proj.weight is torch.Size([768, 3072])\n",
      "The shape of transformer.h.0.mlp.c_proj.bias is torch.Size([768])\n",
      "The shape of transformer.h.1.ln_1.weight is torch.Size([768])\n",
      "The shape of transformer.h.1.ln_1.bias is torch.Size([768])\n",
      "The shape of transformer.h.1.attn.bias is torch.Size([1, 1, 1024, 1024])\n",
      "The shape of transformer.h.1.attn.c_attn.weight is torch.Size([2304, 768])\n",
      "The shape of transformer.h.1.attn.c_attn.bias is torch.Size([2304])\n",
      "The shape of transformer.h.1.attn.c_proj.weight is torch.Size([768, 768])\n",
      "The shape of transformer.h.1.attn.c_proj.bias is torch.Size([768])\n",
      "The shape of transformer.h.1.ln_2.weight is torch.Size([768])\n",
      "The shape of transformer.h.1.ln_2.bias is torch.Size([768])\n",
      "The shape of transformer.h.1.mlp.c_fc.weight is torch.Size([3072, 768])\n",
      "The shape of transformer.h.1.mlp.c_fc.bias is torch.Size([3072])\n",
      "The shape of transformer.h.1.mlp.c_proj.weight is torch.Size([768, 3072])\n",
      "The shape of transformer.h.1.mlp.c_proj.bias is torch.Size([768])\n",
      "The shape of transformer.h.2.ln_1.weight is torch.Size([768])\n",
      "The shape of transformer.h.2.ln_1.bias is torch.Size([768])\n",
      "The shape of transformer.h.2.attn.bias is torch.Size([1, 1, 1024, 1024])\n",
      "The shape of transformer.h.2.attn.c_attn.weight is torch.Size([2304, 768])\n",
      "The shape of transformer.h.2.attn.c_attn.bias is torch.Size([2304])\n",
      "The shape of transformer.h.2.attn.c_proj.weight is torch.Size([768, 768])\n",
      "The shape of transformer.h.2.attn.c_proj.bias is torch.Size([768])\n",
      "The shape of transformer.h.2.ln_2.weight is torch.Size([768])\n",
      "The shape of transformer.h.2.ln_2.bias is torch.Size([768])\n",
      "The shape of transformer.h.2.mlp.c_fc.weight is torch.Size([3072, 768])\n",
      "The shape of transformer.h.2.mlp.c_fc.bias is torch.Size([3072])\n",
      "The shape of transformer.h.2.mlp.c_proj.weight is torch.Size([768, 3072])\n",
      "The shape of transformer.h.2.mlp.c_proj.bias is torch.Size([768])\n",
      "The shape of transformer.h.3.ln_1.weight is torch.Size([768])\n",
      "The shape of transformer.h.3.ln_1.bias is torch.Size([768])\n",
      "The shape of transformer.h.3.attn.bias is torch.Size([1, 1, 1024, 1024])\n",
      "The shape of transformer.h.3.attn.c_attn.weight is torch.Size([2304, 768])\n",
      "The shape of transformer.h.3.attn.c_attn.bias is torch.Size([2304])\n",
      "The shape of transformer.h.3.attn.c_proj.weight is torch.Size([768, 768])\n",
      "The shape of transformer.h.3.attn.c_proj.bias is torch.Size([768])\n",
      "The shape of transformer.h.3.ln_2.weight is torch.Size([768])\n",
      "The shape of transformer.h.3.ln_2.bias is torch.Size([768])\n",
      "The shape of transformer.h.3.mlp.c_fc.weight is torch.Size([3072, 768])\n",
      "The shape of transformer.h.3.mlp.c_fc.bias is torch.Size([3072])\n",
      "The shape of transformer.h.3.mlp.c_proj.weight is torch.Size([768, 3072])\n",
      "The shape of transformer.h.3.mlp.c_proj.bias is torch.Size([768])\n",
      "The shape of transformer.h.4.ln_1.weight is torch.Size([768])\n",
      "The shape of transformer.h.4.ln_1.bias is torch.Size([768])\n",
      "The shape of transformer.h.4.attn.bias is torch.Size([1, 1, 1024, 1024])\n",
      "The shape of transformer.h.4.attn.c_attn.weight is torch.Size([2304, 768])\n",
      "The shape of transformer.h.4.attn.c_attn.bias is torch.Size([2304])\n",
      "The shape of transformer.h.4.attn.c_proj.weight is torch.Size([768, 768])\n",
      "The shape of transformer.h.4.attn.c_proj.bias is torch.Size([768])\n",
      "The shape of transformer.h.4.ln_2.weight is torch.Size([768])\n",
      "The shape of transformer.h.4.ln_2.bias is torch.Size([768])\n",
      "The shape of transformer.h.4.mlp.c_fc.weight is torch.Size([3072, 768])\n",
      "The shape of transformer.h.4.mlp.c_fc.bias is torch.Size([3072])\n",
      "The shape of transformer.h.4.mlp.c_proj.weight is torch.Size([768, 3072])\n",
      "The shape of transformer.h.4.mlp.c_proj.bias is torch.Size([768])\n",
      "The shape of transformer.h.5.ln_1.weight is torch.Size([768])\n",
      "The shape of transformer.h.5.ln_1.bias is torch.Size([768])\n",
      "The shape of transformer.h.5.attn.bias is torch.Size([1, 1, 1024, 1024])\n",
      "The shape of transformer.h.5.attn.c_attn.weight is torch.Size([2304, 768])\n",
      "The shape of transformer.h.5.attn.c_attn.bias is torch.Size([2304])\n",
      "The shape of transformer.h.5.attn.c_proj.weight is torch.Size([768, 768])\n",
      "The shape of transformer.h.5.attn.c_proj.bias is torch.Size([768])\n",
      "The shape of transformer.h.5.ln_2.weight is torch.Size([768])\n",
      "The shape of transformer.h.5.ln_2.bias is torch.Size([768])\n",
      "The shape of transformer.h.5.mlp.c_fc.weight is torch.Size([3072, 768])\n",
      "The shape of transformer.h.5.mlp.c_fc.bias is torch.Size([3072])\n",
      "The shape of transformer.h.5.mlp.c_proj.weight is torch.Size([768, 3072])\n",
      "The shape of transformer.h.5.mlp.c_proj.bias is torch.Size([768])\n",
      "The shape of transformer.h.6.ln_1.weight is torch.Size([768])\n",
      "The shape of transformer.h.6.ln_1.bias is torch.Size([768])\n",
      "The shape of transformer.h.6.attn.bias is torch.Size([1, 1, 1024, 1024])\n",
      "The shape of transformer.h.6.attn.c_attn.weight is torch.Size([2304, 768])\n",
      "The shape of transformer.h.6.attn.c_attn.bias is torch.Size([2304])\n",
      "The shape of transformer.h.6.attn.c_proj.weight is torch.Size([768, 768])\n",
      "The shape of transformer.h.6.attn.c_proj.bias is torch.Size([768])\n",
      "The shape of transformer.h.6.ln_2.weight is torch.Size([768])\n",
      "The shape of transformer.h.6.ln_2.bias is torch.Size([768])\n",
      "The shape of transformer.h.6.mlp.c_fc.weight is torch.Size([3072, 768])\n",
      "The shape of transformer.h.6.mlp.c_fc.bias is torch.Size([3072])\n",
      "The shape of transformer.h.6.mlp.c_proj.weight is torch.Size([768, 3072])\n",
      "The shape of transformer.h.6.mlp.c_proj.bias is torch.Size([768])\n",
      "The shape of transformer.h.7.ln_1.weight is torch.Size([768])\n",
      "The shape of transformer.h.7.ln_1.bias is torch.Size([768])\n",
      "The shape of transformer.h.7.attn.bias is torch.Size([1, 1, 1024, 1024])\n",
      "The shape of transformer.h.7.attn.c_attn.weight is torch.Size([2304, 768])\n",
      "The shape of transformer.h.7.attn.c_attn.bias is torch.Size([2304])\n",
      "The shape of transformer.h.7.attn.c_proj.weight is torch.Size([768, 768])\n",
      "The shape of transformer.h.7.attn.c_proj.bias is torch.Size([768])\n",
      "The shape of transformer.h.7.ln_2.weight is torch.Size([768])\n",
      "The shape of transformer.h.7.ln_2.bias is torch.Size([768])\n",
      "The shape of transformer.h.7.mlp.c_fc.weight is torch.Size([3072, 768])\n",
      "The shape of transformer.h.7.mlp.c_fc.bias is torch.Size([3072])\n",
      "The shape of transformer.h.7.mlp.c_proj.weight is torch.Size([768, 3072])\n",
      "The shape of transformer.h.7.mlp.c_proj.bias is torch.Size([768])\n",
      "The shape of transformer.h.8.ln_1.weight is torch.Size([768])\n",
      "The shape of transformer.h.8.ln_1.bias is torch.Size([768])\n",
      "The shape of transformer.h.8.attn.bias is torch.Size([1, 1, 1024, 1024])\n",
      "The shape of transformer.h.8.attn.c_attn.weight is torch.Size([2304, 768])\n",
      "The shape of transformer.h.8.attn.c_attn.bias is torch.Size([2304])\n",
      "The shape of transformer.h.8.attn.c_proj.weight is torch.Size([768, 768])\n",
      "The shape of transformer.h.8.attn.c_proj.bias is torch.Size([768])\n",
      "The shape of transformer.h.8.ln_2.weight is torch.Size([768])\n",
      "The shape of transformer.h.8.ln_2.bias is torch.Size([768])\n",
      "The shape of transformer.h.8.mlp.c_fc.weight is torch.Size([3072, 768])\n",
      "The shape of transformer.h.8.mlp.c_fc.bias is torch.Size([3072])\n",
      "The shape of transformer.h.8.mlp.c_proj.weight is torch.Size([768, 3072])\n",
      "The shape of transformer.h.8.mlp.c_proj.bias is torch.Size([768])\n",
      "The shape of transformer.h.9.ln_1.weight is torch.Size([768])\n",
      "The shape of transformer.h.9.ln_1.bias is torch.Size([768])\n",
      "The shape of transformer.h.9.attn.bias is torch.Size([1, 1, 1024, 1024])\n",
      "The shape of transformer.h.9.attn.c_attn.weight is torch.Size([2304, 768])\n",
      "The shape of transformer.h.9.attn.c_attn.bias is torch.Size([2304])\n",
      "The shape of transformer.h.9.attn.c_proj.weight is torch.Size([768, 768])\n",
      "The shape of transformer.h.9.attn.c_proj.bias is torch.Size([768])\n",
      "The shape of transformer.h.9.ln_2.weight is torch.Size([768])\n",
      "The shape of transformer.h.9.ln_2.bias is torch.Size([768])\n",
      "The shape of transformer.h.9.mlp.c_fc.weight is torch.Size([3072, 768])\n",
      "The shape of transformer.h.9.mlp.c_fc.bias is torch.Size([3072])\n",
      "The shape of transformer.h.9.mlp.c_proj.weight is torch.Size([768, 3072])\n",
      "The shape of transformer.h.9.mlp.c_proj.bias is torch.Size([768])\n",
      "The shape of transformer.h.10.ln_1.weight is torch.Size([768])\n",
      "The shape of transformer.h.10.ln_1.bias is torch.Size([768])\n",
      "The shape of transformer.h.10.attn.bias is torch.Size([1, 1, 1024, 1024])\n",
      "The shape of transformer.h.10.attn.c_attn.weight is torch.Size([2304, 768])\n",
      "The shape of transformer.h.10.attn.c_attn.bias is torch.Size([2304])\n",
      "The shape of transformer.h.10.attn.c_proj.weight is torch.Size([768, 768])\n",
      "The shape of transformer.h.10.attn.c_proj.bias is torch.Size([768])\n",
      "The shape of transformer.h.10.ln_2.weight is torch.Size([768])\n",
      "The shape of transformer.h.10.ln_2.bias is torch.Size([768])\n",
      "The shape of transformer.h.10.mlp.c_fc.weight is torch.Size([3072, 768])\n",
      "The shape of transformer.h.10.mlp.c_fc.bias is torch.Size([3072])\n",
      "The shape of transformer.h.10.mlp.c_proj.weight is torch.Size([768, 3072])\n",
      "The shape of transformer.h.10.mlp.c_proj.bias is torch.Size([768])\n",
      "The shape of transformer.h.11.ln_1.weight is torch.Size([768])\n",
      "The shape of transformer.h.11.ln_1.bias is torch.Size([768])\n",
      "The shape of transformer.h.11.attn.bias is torch.Size([1, 1, 1024, 1024])\n",
      "The shape of transformer.h.11.attn.c_attn.weight is torch.Size([2304, 768])\n",
      "The shape of transformer.h.11.attn.c_attn.bias is torch.Size([2304])\n",
      "The shape of transformer.h.11.attn.c_proj.weight is torch.Size([768, 768])\n",
      "The shape of transformer.h.11.attn.c_proj.bias is torch.Size([768])\n",
      "The shape of transformer.h.11.ln_2.weight is torch.Size([768])\n",
      "The shape of transformer.h.11.ln_2.bias is torch.Size([768])\n",
      "The shape of transformer.h.11.mlp.c_fc.weight is torch.Size([3072, 768])\n",
      "The shape of transformer.h.11.mlp.c_fc.bias is torch.Size([3072])\n",
      "The shape of transformer.h.11.mlp.c_proj.weight is torch.Size([768, 3072])\n",
      "The shape of transformer.h.11.mlp.c_proj.bias is torch.Size([768])\n",
      "The shape of transformer.ln_f.weight is torch.Size([768])\n",
      "The shape of transformer.ln_f.bias is torch.Size([768])\n",
      "The shape of lm_head.weight is torch.Size([50257, 768])\n"
     ]
    }
   ],
   "source": [
    "for k, v in model.state_dict().items():\n",
    "    print(f'The shape of {k} is {v.shape}')"
   ]
  },
  {
   "cell_type": "markdown",
   "id": "196f7429-d00b-4455-a7fa-cd90dc4d4d0a",
   "metadata": {},
   "source": [
    "# 尝试生成"
   ]
  },
  {
   "cell_type": "code",
   "execution_count": 23,
   "id": "fc7b5836-0a71-4ca0-ac59-6cacd3757177",
   "metadata": {
    "tags": []
   },
   "outputs": [],
   "source": [
    "num_return_sequences = 5\n",
    "max_length = 30"
   ]
  },
  {
   "cell_type": "code",
   "execution_count": 24,
   "id": "b5b06a4e-2ea9-4324-b67e-31e5af65b179",
   "metadata": {
    "collapsed": true,
    "jupyter": {
     "outputs_hidden": true
    },
    "tags": []
   },
   "outputs": [
    {
     "data": {
      "text/plain": [
       "GPT(\n",
       "  (transformer): ModuleDict(\n",
       "    (wte): Embedding(50257, 768)\n",
       "    (wpe): Embedding(1024, 768)\n",
       "    (h): ModuleList(\n",
       "      (0): Block(\n",
       "        (ln_1): LayerNorm((768,), eps=1e-05, elementwise_affine=True)\n",
       "        (attn): CausalSelfAttention(\n",
       "          (c_attn): Linear(in_features=768, out_features=2304, bias=True)\n",
       "          (c_proj): Linear(in_features=768, out_features=768, bias=True)\n",
       "        )\n",
       "        (ln_2): LayerNorm((768,), eps=1e-05, elementwise_affine=True)\n",
       "        (mlp): MLP(\n",
       "          (c_fc): Linear(in_features=768, out_features=3072, bias=True)\n",
       "          (gelu): GELU(approximate=tanh)\n",
       "          (c_proj): Linear(in_features=3072, out_features=768, bias=True)\n",
       "        )\n",
       "      )\n",
       "      (1): Block(\n",
       "        (ln_1): LayerNorm((768,), eps=1e-05, elementwise_affine=True)\n",
       "        (attn): CausalSelfAttention(\n",
       "          (c_attn): Linear(in_features=768, out_features=2304, bias=True)\n",
       "          (c_proj): Linear(in_features=768, out_features=768, bias=True)\n",
       "        )\n",
       "        (ln_2): LayerNorm((768,), eps=1e-05, elementwise_affine=True)\n",
       "        (mlp): MLP(\n",
       "          (c_fc): Linear(in_features=768, out_features=3072, bias=True)\n",
       "          (gelu): GELU(approximate=tanh)\n",
       "          (c_proj): Linear(in_features=3072, out_features=768, bias=True)\n",
       "        )\n",
       "      )\n",
       "      (2): Block(\n",
       "        (ln_1): LayerNorm((768,), eps=1e-05, elementwise_affine=True)\n",
       "        (attn): CausalSelfAttention(\n",
       "          (c_attn): Linear(in_features=768, out_features=2304, bias=True)\n",
       "          (c_proj): Linear(in_features=768, out_features=768, bias=True)\n",
       "        )\n",
       "        (ln_2): LayerNorm((768,), eps=1e-05, elementwise_affine=True)\n",
       "        (mlp): MLP(\n",
       "          (c_fc): Linear(in_features=768, out_features=3072, bias=True)\n",
       "          (gelu): GELU(approximate=tanh)\n",
       "          (c_proj): Linear(in_features=3072, out_features=768, bias=True)\n",
       "        )\n",
       "      )\n",
       "      (3): Block(\n",
       "        (ln_1): LayerNorm((768,), eps=1e-05, elementwise_affine=True)\n",
       "        (attn): CausalSelfAttention(\n",
       "          (c_attn): Linear(in_features=768, out_features=2304, bias=True)\n",
       "          (c_proj): Linear(in_features=768, out_features=768, bias=True)\n",
       "        )\n",
       "        (ln_2): LayerNorm((768,), eps=1e-05, elementwise_affine=True)\n",
       "        (mlp): MLP(\n",
       "          (c_fc): Linear(in_features=768, out_features=3072, bias=True)\n",
       "          (gelu): GELU(approximate=tanh)\n",
       "          (c_proj): Linear(in_features=3072, out_features=768, bias=True)\n",
       "        )\n",
       "      )\n",
       "      (4): Block(\n",
       "        (ln_1): LayerNorm((768,), eps=1e-05, elementwise_affine=True)\n",
       "        (attn): CausalSelfAttention(\n",
       "          (c_attn): Linear(in_features=768, out_features=2304, bias=True)\n",
       "          (c_proj): Linear(in_features=768, out_features=768, bias=True)\n",
       "        )\n",
       "        (ln_2): LayerNorm((768,), eps=1e-05, elementwise_affine=True)\n",
       "        (mlp): MLP(\n",
       "          (c_fc): Linear(in_features=768, out_features=3072, bias=True)\n",
       "          (gelu): GELU(approximate=tanh)\n",
       "          (c_proj): Linear(in_features=3072, out_features=768, bias=True)\n",
       "        )\n",
       "      )\n",
       "      (5): Block(\n",
       "        (ln_1): LayerNorm((768,), eps=1e-05, elementwise_affine=True)\n",
       "        (attn): CausalSelfAttention(\n",
       "          (c_attn): Linear(in_features=768, out_features=2304, bias=True)\n",
       "          (c_proj): Linear(in_features=768, out_features=768, bias=True)\n",
       "        )\n",
       "        (ln_2): LayerNorm((768,), eps=1e-05, elementwise_affine=True)\n",
       "        (mlp): MLP(\n",
       "          (c_fc): Linear(in_features=768, out_features=3072, bias=True)\n",
       "          (gelu): GELU(approximate=tanh)\n",
       "          (c_proj): Linear(in_features=3072, out_features=768, bias=True)\n",
       "        )\n",
       "      )\n",
       "      (6): Block(\n",
       "        (ln_1): LayerNorm((768,), eps=1e-05, elementwise_affine=True)\n",
       "        (attn): CausalSelfAttention(\n",
       "          (c_attn): Linear(in_features=768, out_features=2304, bias=True)\n",
       "          (c_proj): Linear(in_features=768, out_features=768, bias=True)\n",
       "        )\n",
       "        (ln_2): LayerNorm((768,), eps=1e-05, elementwise_affine=True)\n",
       "        (mlp): MLP(\n",
       "          (c_fc): Linear(in_features=768, out_features=3072, bias=True)\n",
       "          (gelu): GELU(approximate=tanh)\n",
       "          (c_proj): Linear(in_features=3072, out_features=768, bias=True)\n",
       "        )\n",
       "      )\n",
       "      (7): Block(\n",
       "        (ln_1): LayerNorm((768,), eps=1e-05, elementwise_affine=True)\n",
       "        (attn): CausalSelfAttention(\n",
       "          (c_attn): Linear(in_features=768, out_features=2304, bias=True)\n",
       "          (c_proj): Linear(in_features=768, out_features=768, bias=True)\n",
       "        )\n",
       "        (ln_2): LayerNorm((768,), eps=1e-05, elementwise_affine=True)\n",
       "        (mlp): MLP(\n",
       "          (c_fc): Linear(in_features=768, out_features=3072, bias=True)\n",
       "          (gelu): GELU(approximate=tanh)\n",
       "          (c_proj): Linear(in_features=3072, out_features=768, bias=True)\n",
       "        )\n",
       "      )\n",
       "      (8): Block(\n",
       "        (ln_1): LayerNorm((768,), eps=1e-05, elementwise_affine=True)\n",
       "        (attn): CausalSelfAttention(\n",
       "          (c_attn): Linear(in_features=768, out_features=2304, bias=True)\n",
       "          (c_proj): Linear(in_features=768, out_features=768, bias=True)\n",
       "        )\n",
       "        (ln_2): LayerNorm((768,), eps=1e-05, elementwise_affine=True)\n",
       "        (mlp): MLP(\n",
       "          (c_fc): Linear(in_features=768, out_features=3072, bias=True)\n",
       "          (gelu): GELU(approximate=tanh)\n",
       "          (c_proj): Linear(in_features=3072, out_features=768, bias=True)\n",
       "        )\n",
       "      )\n",
       "      (9): Block(\n",
       "        (ln_1): LayerNorm((768,), eps=1e-05, elementwise_affine=True)\n",
       "        (attn): CausalSelfAttention(\n",
       "          (c_attn): Linear(in_features=768, out_features=2304, bias=True)\n",
       "          (c_proj): Linear(in_features=768, out_features=768, bias=True)\n",
       "        )\n",
       "        (ln_2): LayerNorm((768,), eps=1e-05, elementwise_affine=True)\n",
       "        (mlp): MLP(\n",
       "          (c_fc): Linear(in_features=768, out_features=3072, bias=True)\n",
       "          (gelu): GELU(approximate=tanh)\n",
       "          (c_proj): Linear(in_features=3072, out_features=768, bias=True)\n",
       "        )\n",
       "      )\n",
       "      (10): Block(\n",
       "        (ln_1): LayerNorm((768,), eps=1e-05, elementwise_affine=True)\n",
       "        (attn): CausalSelfAttention(\n",
       "          (c_attn): Linear(in_features=768, out_features=2304, bias=True)\n",
       "          (c_proj): Linear(in_features=768, out_features=768, bias=True)\n",
       "        )\n",
       "        (ln_2): LayerNorm((768,), eps=1e-05, elementwise_affine=True)\n",
       "        (mlp): MLP(\n",
       "          (c_fc): Linear(in_features=768, out_features=3072, bias=True)\n",
       "          (gelu): GELU(approximate=tanh)\n",
       "          (c_proj): Linear(in_features=3072, out_features=768, bias=True)\n",
       "        )\n",
       "      )\n",
       "      (11): Block(\n",
       "        (ln_1): LayerNorm((768,), eps=1e-05, elementwise_affine=True)\n",
       "        (attn): CausalSelfAttention(\n",
       "          (c_attn): Linear(in_features=768, out_features=2304, bias=True)\n",
       "          (c_proj): Linear(in_features=768, out_features=768, bias=True)\n",
       "        )\n",
       "        (ln_2): LayerNorm((768,), eps=1e-05, elementwise_affine=True)\n",
       "        (mlp): MLP(\n",
       "          (c_fc): Linear(in_features=768, out_features=3072, bias=True)\n",
       "          (gelu): GELU(approximate=tanh)\n",
       "          (c_proj): Linear(in_features=3072, out_features=768, bias=True)\n",
       "        )\n",
       "      )\n",
       "    )\n",
       "    (ln_f): LayerNorm((768,), eps=1e-05, elementwise_affine=True)\n",
       "  )\n",
       "  (lm_head): Linear(in_features=768, out_features=50257, bias=False)\n",
       ")"
      ]
     },
     "execution_count": 24,
     "metadata": {},
     "output_type": "execute_result"
    },
    {
     "data": {
      "text/plain": [
       "GPT(\n",
       "  (transformer): ModuleDict(\n",
       "    (wte): Embedding(50257, 768)\n",
       "    (wpe): Embedding(1024, 768)\n",
       "    (h): ModuleList(\n",
       "      (0): Block(\n",
       "        (ln_1): LayerNorm((768,), eps=1e-05, elementwise_affine=True)\n",
       "        (attn): CausalSelfAttention(\n",
       "          (c_attn): Linear(in_features=768, out_features=2304, bias=True)\n",
       "          (c_proj): Linear(in_features=768, out_features=768, bias=True)\n",
       "        )\n",
       "        (ln_2): LayerNorm((768,), eps=1e-05, elementwise_affine=True)\n",
       "        (mlp): MLP(\n",
       "          (c_fc): Linear(in_features=768, out_features=3072, bias=True)\n",
       "          (gelu): GELU(approximate=tanh)\n",
       "          (c_proj): Linear(in_features=3072, out_features=768, bias=True)\n",
       "        )\n",
       "      )\n",
       "      (1): Block(\n",
       "        (ln_1): LayerNorm((768,), eps=1e-05, elementwise_affine=True)\n",
       "        (attn): CausalSelfAttention(\n",
       "          (c_attn): Linear(in_features=768, out_features=2304, bias=True)\n",
       "          (c_proj): Linear(in_features=768, out_features=768, bias=True)\n",
       "        )\n",
       "        (ln_2): LayerNorm((768,), eps=1e-05, elementwise_affine=True)\n",
       "        (mlp): MLP(\n",
       "          (c_fc): Linear(in_features=768, out_features=3072, bias=True)\n",
       "          (gelu): GELU(approximate=tanh)\n",
       "          (c_proj): Linear(in_features=3072, out_features=768, bias=True)\n",
       "        )\n",
       "      )\n",
       "      (2): Block(\n",
       "        (ln_1): LayerNorm((768,), eps=1e-05, elementwise_affine=True)\n",
       "        (attn): CausalSelfAttention(\n",
       "          (c_attn): Linear(in_features=768, out_features=2304, bias=True)\n",
       "          (c_proj): Linear(in_features=768, out_features=768, bias=True)\n",
       "        )\n",
       "        (ln_2): LayerNorm((768,), eps=1e-05, elementwise_affine=True)\n",
       "        (mlp): MLP(\n",
       "          (c_fc): Linear(in_features=768, out_features=3072, bias=True)\n",
       "          (gelu): GELU(approximate=tanh)\n",
       "          (c_proj): Linear(in_features=3072, out_features=768, bias=True)\n",
       "        )\n",
       "      )\n",
       "      (3): Block(\n",
       "        (ln_1): LayerNorm((768,), eps=1e-05, elementwise_affine=True)\n",
       "        (attn): CausalSelfAttention(\n",
       "          (c_attn): Linear(in_features=768, out_features=2304, bias=True)\n",
       "          (c_proj): Linear(in_features=768, out_features=768, bias=True)\n",
       "        )\n",
       "        (ln_2): LayerNorm((768,), eps=1e-05, elementwise_affine=True)\n",
       "        (mlp): MLP(\n",
       "          (c_fc): Linear(in_features=768, out_features=3072, bias=True)\n",
       "          (gelu): GELU(approximate=tanh)\n",
       "          (c_proj): Linear(in_features=3072, out_features=768, bias=True)\n",
       "        )\n",
       "      )\n",
       "      (4): Block(\n",
       "        (ln_1): LayerNorm((768,), eps=1e-05, elementwise_affine=True)\n",
       "        (attn): CausalSelfAttention(\n",
       "          (c_attn): Linear(in_features=768, out_features=2304, bias=True)\n",
       "          (c_proj): Linear(in_features=768, out_features=768, bias=True)\n",
       "        )\n",
       "        (ln_2): LayerNorm((768,), eps=1e-05, elementwise_affine=True)\n",
       "        (mlp): MLP(\n",
       "          (c_fc): Linear(in_features=768, out_features=3072, bias=True)\n",
       "          (gelu): GELU(approximate=tanh)\n",
       "          (c_proj): Linear(in_features=3072, out_features=768, bias=True)\n",
       "        )\n",
       "      )\n",
       "      (5): Block(\n",
       "        (ln_1): LayerNorm((768,), eps=1e-05, elementwise_affine=True)\n",
       "        (attn): CausalSelfAttention(\n",
       "          (c_attn): Linear(in_features=768, out_features=2304, bias=True)\n",
       "          (c_proj): Linear(in_features=768, out_features=768, bias=True)\n",
       "        )\n",
       "        (ln_2): LayerNorm((768,), eps=1e-05, elementwise_affine=True)\n",
       "        (mlp): MLP(\n",
       "          (c_fc): Linear(in_features=768, out_features=3072, bias=True)\n",
       "          (gelu): GELU(approximate=tanh)\n",
       "          (c_proj): Linear(in_features=3072, out_features=768, bias=True)\n",
       "        )\n",
       "      )\n",
       "      (6): Block(\n",
       "        (ln_1): LayerNorm((768,), eps=1e-05, elementwise_affine=True)\n",
       "        (attn): CausalSelfAttention(\n",
       "          (c_attn): Linear(in_features=768, out_features=2304, bias=True)\n",
       "          (c_proj): Linear(in_features=768, out_features=768, bias=True)\n",
       "        )\n",
       "        (ln_2): LayerNorm((768,), eps=1e-05, elementwise_affine=True)\n",
       "        (mlp): MLP(\n",
       "          (c_fc): Linear(in_features=768, out_features=3072, bias=True)\n",
       "          (gelu): GELU(approximate=tanh)\n",
       "          (c_proj): Linear(in_features=3072, out_features=768, bias=True)\n",
       "        )\n",
       "      )\n",
       "      (7): Block(\n",
       "        (ln_1): LayerNorm((768,), eps=1e-05, elementwise_affine=True)\n",
       "        (attn): CausalSelfAttention(\n",
       "          (c_attn): Linear(in_features=768, out_features=2304, bias=True)\n",
       "          (c_proj): Linear(in_features=768, out_features=768, bias=True)\n",
       "        )\n",
       "        (ln_2): LayerNorm((768,), eps=1e-05, elementwise_affine=True)\n",
       "        (mlp): MLP(\n",
       "          (c_fc): Linear(in_features=768, out_features=3072, bias=True)\n",
       "          (gelu): GELU(approximate=tanh)\n",
       "          (c_proj): Linear(in_features=3072, out_features=768, bias=True)\n",
       "        )\n",
       "      )\n",
       "      (8): Block(\n",
       "        (ln_1): LayerNorm((768,), eps=1e-05, elementwise_affine=True)\n",
       "        (attn): CausalSelfAttention(\n",
       "          (c_attn): Linear(in_features=768, out_features=2304, bias=True)\n",
       "          (c_proj): Linear(in_features=768, out_features=768, bias=True)\n",
       "        )\n",
       "        (ln_2): LayerNorm((768,), eps=1e-05, elementwise_affine=True)\n",
       "        (mlp): MLP(\n",
       "          (c_fc): Linear(in_features=768, out_features=3072, bias=True)\n",
       "          (gelu): GELU(approximate=tanh)\n",
       "          (c_proj): Linear(in_features=3072, out_features=768, bias=True)\n",
       "        )\n",
       "      )\n",
       "      (9): Block(\n",
       "        (ln_1): LayerNorm((768,), eps=1e-05, elementwise_affine=True)\n",
       "        (attn): CausalSelfAttention(\n",
       "          (c_attn): Linear(in_features=768, out_features=2304, bias=True)\n",
       "          (c_proj): Linear(in_features=768, out_features=768, bias=True)\n",
       "        )\n",
       "        (ln_2): LayerNorm((768,), eps=1e-05, elementwise_affine=True)\n",
       "        (mlp): MLP(\n",
       "          (c_fc): Linear(in_features=768, out_features=3072, bias=True)\n",
       "          (gelu): GELU(approximate=tanh)\n",
       "          (c_proj): Linear(in_features=3072, out_features=768, bias=True)\n",
       "        )\n",
       "      )\n",
       "      (10): Block(\n",
       "        (ln_1): LayerNorm((768,), eps=1e-05, elementwise_affine=True)\n",
       "        (attn): CausalSelfAttention(\n",
       "          (c_attn): Linear(in_features=768, out_features=2304, bias=True)\n",
       "          (c_proj): Linear(in_features=768, out_features=768, bias=True)\n",
       "        )\n",
       "        (ln_2): LayerNorm((768,), eps=1e-05, elementwise_affine=True)\n",
       "        (mlp): MLP(\n",
       "          (c_fc): Linear(in_features=768, out_features=3072, bias=True)\n",
       "          (gelu): GELU(approximate=tanh)\n",
       "          (c_proj): Linear(in_features=3072, out_features=768, bias=True)\n",
       "        )\n",
       "      )\n",
       "      (11): Block(\n",
       "        (ln_1): LayerNorm((768,), eps=1e-05, elementwise_affine=True)\n",
       "        (attn): CausalSelfAttention(\n",
       "          (c_attn): Linear(in_features=768, out_features=2304, bias=True)\n",
       "          (c_proj): Linear(in_features=768, out_features=768, bias=True)\n",
       "        )\n",
       "        (ln_2): LayerNorm((768,), eps=1e-05, elementwise_affine=True)\n",
       "        (mlp): MLP(\n",
       "          (c_fc): Linear(in_features=768, out_features=3072, bias=True)\n",
       "          (gelu): GELU(approximate=tanh)\n",
       "          (c_proj): Linear(in_features=3072, out_features=768, bias=True)\n",
       "        )\n",
       "      )\n",
       "    )\n",
       "    (ln_f): LayerNorm((768,), eps=1e-05, elementwise_affine=True)\n",
       "  )\n",
       "  (lm_head): Linear(in_features=768, out_features=50257, bias=False)\n",
       ")"
      ]
     },
     "execution_count": 24,
     "metadata": {},
     "output_type": "execute_result"
    }
   ],
   "source": [
    "model.eval()\n",
    "model.to(device)"
   ]
  },
  {
   "cell_type": "code",
   "execution_count": 25,
   "id": "63031426-14aa-4c3f-92cc-f61d0a27dd51",
   "metadata": {
    "tags": []
   },
   "outputs": [
    {
     "data": {
      "text/plain": [
       "tensor([[15496,    11,   314,  1101,   257,  3303,  2746,    11],\n",
       "        [15496,    11,   314,  1101,   257,  3303,  2746,    11],\n",
       "        [15496,    11,   314,  1101,   257,  3303,  2746,    11],\n",
       "        [15496,    11,   314,  1101,   257,  3303,  2746,    11],\n",
       "        [15496,    11,   314,  1101,   257,  3303,  2746,    11]])"
      ]
     },
     "execution_count": 25,
     "metadata": {},
     "output_type": "execute_result"
    }
   ],
   "source": [
    "# prefix tokens\n",
    "import tiktoken\n",
    "enc = tiktoken.get_encoding('gpt2')\n",
    "tokens = enc.encode(\"Hello, I'm a language model,\")\n",
    "tokens = torch.tensor(tokens, dtype=torch.long) # (B, )\n",
    "tokens = tokens.unsqueeze(0).repeat(num_return_sequences, 1) # (5, 8)\n",
    "x = tokens.to(device)\n",
    "x"
   ]
  },
  {
   "cell_type": "code",
   "execution_count": 26,
   "id": "f8e35ed6-d69d-4199-8b09-35476aea1117",
   "metadata": {
    "tags": []
   },
   "outputs": [
    {
     "data": {
      "text/plain": [
       "<torch._C.Generator at 0x7f9b72f025b0>"
      ]
     },
     "execution_count": 26,
     "metadata": {},
     "output_type": "execute_result"
    }
   ],
   "source": [
    "# generate right now x is (B, T) wheer B = 5, T = 8\n",
    "# set the seed to 42\n",
    "torch.manual_seed(42)\n",
    "torch.cuda.manual_seed(42)\n",
    "\n",
    "while x.size(1) < max_length:\n",
    "    with torch.no_grad():\n",
    "        logits_ = model(x) # (B, T, vocab_size)\n",
    "        # take the logits at the last position\n",
    "        logits = logits_[:, -1, :] # (B, vocab_size)\n",
    "        # get the probabilities\n",
    "        probs = F.softmax(logits, dim=-1)\n",
    "        # do top-k sampling of 50 (huggingface pipeline default)\n",
    "        # topk_prob here becomes (5, 50), topk_indices is (5, 50)\n",
    "        topk_probs, topk_indices = torch.topk(probs, 50, dim=-1)\n",
    "        # select a token from the top-k probabilities\n",
    "        ix = torch.multinomial(topk_probs, 1) # (B, 1)\n",
    "        # gather the corresponding indices\n",
    "        xcol = torch.gather(topk_indices, -1, ix) # (B, 1)\n",
    "        # append to the sequence\n",
    "        x = torch.cat([x, xcol], dim=1)"
   ]
  },
  {
   "cell_type": "code",
   "execution_count": 27,
   "id": "d5d0dd1f-8f0e-4aa5-82e1-e03db3e4c994",
   "metadata": {
    "tags": []
   },
   "outputs": [
    {
     "name": "stdout",
     "output_type": "stream",
     "text": [
      "> Hello, I'm a language model, not a science. I'm a language designer. I want to write, I want to think. I want\n",
      "> Hello, I'm a language model, I use an English sentence structure, I like words over sentences.\n",
      "\n",
      "\"That's OK I'll look\n",
      "> Hello, I'm a language model, not just another language.\" This isn't a \"language model?\" It's an idea. So far, what\n",
      "> Hello, I'm a language model, not a programming model. I'm not a theoretical computer model - you read that right - because my ideas are\n",
      "> Hello, I'm a language model, I teach myself.\n",
      "\n",
      "I want to know more about how languages work and why they could be used.\n"
     ]
    }
   ],
   "source": [
    "# print the generated text\n",
    "for i in range(num_return_sequences):\n",
    "    tokens = x[i, :max_length].tolist()\n",
    "    decoded = enc.decode(tokens)\n",
    "    print(\">\", decoded)"
   ]
  },
  {
   "cell_type": "markdown",
   "id": "6f2053ec-0e8f-400c-90ba-d25c427c4a7f",
   "metadata": {},
   "source": [
    "# 训练"
   ]
  },
  {
   "cell_type": "markdown",
   "id": "6242b776-a0f1-4a55-b4a0-f05d724fd4b6",
   "metadata": {},
   "source": [
    "## 随机数初始化"
   ]
  },
  {
   "cell_type": "code",
   "execution_count": 28,
   "id": "58cf621a-344a-460d-9fba-5e9046d1ad23",
   "metadata": {
    "collapsed": true,
    "jupyter": {
     "outputs_hidden": true
    },
    "tags": []
   },
   "outputs": [
    {
     "data": {
      "text/plain": [
       "GPT(\n",
       "  (transformer): ModuleDict(\n",
       "    (wte): Embedding(50257, 768)\n",
       "    (wpe): Embedding(1024, 768)\n",
       "    (h): ModuleList(\n",
       "      (0): Block(\n",
       "        (ln_1): LayerNorm((768,), eps=1e-05, elementwise_affine=True)\n",
       "        (attn): CausalSelfAttention(\n",
       "          (c_attn): Linear(in_features=768, out_features=2304, bias=True)\n",
       "          (c_proj): Linear(in_features=768, out_features=768, bias=True)\n",
       "        )\n",
       "        (ln_2): LayerNorm((768,), eps=1e-05, elementwise_affine=True)\n",
       "        (mlp): MLP(\n",
       "          (c_fc): Linear(in_features=768, out_features=3072, bias=True)\n",
       "          (gelu): GELU(approximate=tanh)\n",
       "          (c_proj): Linear(in_features=3072, out_features=768, bias=True)\n",
       "        )\n",
       "      )\n",
       "      (1): Block(\n",
       "        (ln_1): LayerNorm((768,), eps=1e-05, elementwise_affine=True)\n",
       "        (attn): CausalSelfAttention(\n",
       "          (c_attn): Linear(in_features=768, out_features=2304, bias=True)\n",
       "          (c_proj): Linear(in_features=768, out_features=768, bias=True)\n",
       "        )\n",
       "        (ln_2): LayerNorm((768,), eps=1e-05, elementwise_affine=True)\n",
       "        (mlp): MLP(\n",
       "          (c_fc): Linear(in_features=768, out_features=3072, bias=True)\n",
       "          (gelu): GELU(approximate=tanh)\n",
       "          (c_proj): Linear(in_features=3072, out_features=768, bias=True)\n",
       "        )\n",
       "      )\n",
       "      (2): Block(\n",
       "        (ln_1): LayerNorm((768,), eps=1e-05, elementwise_affine=True)\n",
       "        (attn): CausalSelfAttention(\n",
       "          (c_attn): Linear(in_features=768, out_features=2304, bias=True)\n",
       "          (c_proj): Linear(in_features=768, out_features=768, bias=True)\n",
       "        )\n",
       "        (ln_2): LayerNorm((768,), eps=1e-05, elementwise_affine=True)\n",
       "        (mlp): MLP(\n",
       "          (c_fc): Linear(in_features=768, out_features=3072, bias=True)\n",
       "          (gelu): GELU(approximate=tanh)\n",
       "          (c_proj): Linear(in_features=3072, out_features=768, bias=True)\n",
       "        )\n",
       "      )\n",
       "      (3): Block(\n",
       "        (ln_1): LayerNorm((768,), eps=1e-05, elementwise_affine=True)\n",
       "        (attn): CausalSelfAttention(\n",
       "          (c_attn): Linear(in_features=768, out_features=2304, bias=True)\n",
       "          (c_proj): Linear(in_features=768, out_features=768, bias=True)\n",
       "        )\n",
       "        (ln_2): LayerNorm((768,), eps=1e-05, elementwise_affine=True)\n",
       "        (mlp): MLP(\n",
       "          (c_fc): Linear(in_features=768, out_features=3072, bias=True)\n",
       "          (gelu): GELU(approximate=tanh)\n",
       "          (c_proj): Linear(in_features=3072, out_features=768, bias=True)\n",
       "        )\n",
       "      )\n",
       "      (4): Block(\n",
       "        (ln_1): LayerNorm((768,), eps=1e-05, elementwise_affine=True)\n",
       "        (attn): CausalSelfAttention(\n",
       "          (c_attn): Linear(in_features=768, out_features=2304, bias=True)\n",
       "          (c_proj): Linear(in_features=768, out_features=768, bias=True)\n",
       "        )\n",
       "        (ln_2): LayerNorm((768,), eps=1e-05, elementwise_affine=True)\n",
       "        (mlp): MLP(\n",
       "          (c_fc): Linear(in_features=768, out_features=3072, bias=True)\n",
       "          (gelu): GELU(approximate=tanh)\n",
       "          (c_proj): Linear(in_features=3072, out_features=768, bias=True)\n",
       "        )\n",
       "      )\n",
       "      (5): Block(\n",
       "        (ln_1): LayerNorm((768,), eps=1e-05, elementwise_affine=True)\n",
       "        (attn): CausalSelfAttention(\n",
       "          (c_attn): Linear(in_features=768, out_features=2304, bias=True)\n",
       "          (c_proj): Linear(in_features=768, out_features=768, bias=True)\n",
       "        )\n",
       "        (ln_2): LayerNorm((768,), eps=1e-05, elementwise_affine=True)\n",
       "        (mlp): MLP(\n",
       "          (c_fc): Linear(in_features=768, out_features=3072, bias=True)\n",
       "          (gelu): GELU(approximate=tanh)\n",
       "          (c_proj): Linear(in_features=3072, out_features=768, bias=True)\n",
       "        )\n",
       "      )\n",
       "      (6): Block(\n",
       "        (ln_1): LayerNorm((768,), eps=1e-05, elementwise_affine=True)\n",
       "        (attn): CausalSelfAttention(\n",
       "          (c_attn): Linear(in_features=768, out_features=2304, bias=True)\n",
       "          (c_proj): Linear(in_features=768, out_features=768, bias=True)\n",
       "        )\n",
       "        (ln_2): LayerNorm((768,), eps=1e-05, elementwise_affine=True)\n",
       "        (mlp): MLP(\n",
       "          (c_fc): Linear(in_features=768, out_features=3072, bias=True)\n",
       "          (gelu): GELU(approximate=tanh)\n",
       "          (c_proj): Linear(in_features=3072, out_features=768, bias=True)\n",
       "        )\n",
       "      )\n",
       "      (7): Block(\n",
       "        (ln_1): LayerNorm((768,), eps=1e-05, elementwise_affine=True)\n",
       "        (attn): CausalSelfAttention(\n",
       "          (c_attn): Linear(in_features=768, out_features=2304, bias=True)\n",
       "          (c_proj): Linear(in_features=768, out_features=768, bias=True)\n",
       "        )\n",
       "        (ln_2): LayerNorm((768,), eps=1e-05, elementwise_affine=True)\n",
       "        (mlp): MLP(\n",
       "          (c_fc): Linear(in_features=768, out_features=3072, bias=True)\n",
       "          (gelu): GELU(approximate=tanh)\n",
       "          (c_proj): Linear(in_features=3072, out_features=768, bias=True)\n",
       "        )\n",
       "      )\n",
       "      (8): Block(\n",
       "        (ln_1): LayerNorm((768,), eps=1e-05, elementwise_affine=True)\n",
       "        (attn): CausalSelfAttention(\n",
       "          (c_attn): Linear(in_features=768, out_features=2304, bias=True)\n",
       "          (c_proj): Linear(in_features=768, out_features=768, bias=True)\n",
       "        )\n",
       "        (ln_2): LayerNorm((768,), eps=1e-05, elementwise_affine=True)\n",
       "        (mlp): MLP(\n",
       "          (c_fc): Linear(in_features=768, out_features=3072, bias=True)\n",
       "          (gelu): GELU(approximate=tanh)\n",
       "          (c_proj): Linear(in_features=3072, out_features=768, bias=True)\n",
       "        )\n",
       "      )\n",
       "      (9): Block(\n",
       "        (ln_1): LayerNorm((768,), eps=1e-05, elementwise_affine=True)\n",
       "        (attn): CausalSelfAttention(\n",
       "          (c_attn): Linear(in_features=768, out_features=2304, bias=True)\n",
       "          (c_proj): Linear(in_features=768, out_features=768, bias=True)\n",
       "        )\n",
       "        (ln_2): LayerNorm((768,), eps=1e-05, elementwise_affine=True)\n",
       "        (mlp): MLP(\n",
       "          (c_fc): Linear(in_features=768, out_features=3072, bias=True)\n",
       "          (gelu): GELU(approximate=tanh)\n",
       "          (c_proj): Linear(in_features=3072, out_features=768, bias=True)\n",
       "        )\n",
       "      )\n",
       "      (10): Block(\n",
       "        (ln_1): LayerNorm((768,), eps=1e-05, elementwise_affine=True)\n",
       "        (attn): CausalSelfAttention(\n",
       "          (c_attn): Linear(in_features=768, out_features=2304, bias=True)\n",
       "          (c_proj): Linear(in_features=768, out_features=768, bias=True)\n",
       "        )\n",
       "        (ln_2): LayerNorm((768,), eps=1e-05, elementwise_affine=True)\n",
       "        (mlp): MLP(\n",
       "          (c_fc): Linear(in_features=768, out_features=3072, bias=True)\n",
       "          (gelu): GELU(approximate=tanh)\n",
       "          (c_proj): Linear(in_features=3072, out_features=768, bias=True)\n",
       "        )\n",
       "      )\n",
       "      (11): Block(\n",
       "        (ln_1): LayerNorm((768,), eps=1e-05, elementwise_affine=True)\n",
       "        (attn): CausalSelfAttention(\n",
       "          (c_attn): Linear(in_features=768, out_features=2304, bias=True)\n",
       "          (c_proj): Linear(in_features=768, out_features=768, bias=True)\n",
       "        )\n",
       "        (ln_2): LayerNorm((768,), eps=1e-05, elementwise_affine=True)\n",
       "        (mlp): MLP(\n",
       "          (c_fc): Linear(in_features=768, out_features=3072, bias=True)\n",
       "          (gelu): GELU(approximate=tanh)\n",
       "          (c_proj): Linear(in_features=3072, out_features=768, bias=True)\n",
       "        )\n",
       "      )\n",
       "    )\n",
       "    (ln_f): LayerNorm((768,), eps=1e-05, elementwise_affine=True)\n",
       "  )\n",
       "  (lm_head): Linear(in_features=768, out_features=50257, bias=False)\n",
       ")"
      ]
     },
     "execution_count": 28,
     "metadata": {},
     "output_type": "execute_result"
    },
    {
     "data": {
      "text/plain": [
       "GPT(\n",
       "  (transformer): ModuleDict(\n",
       "    (wte): Embedding(50257, 768)\n",
       "    (wpe): Embedding(1024, 768)\n",
       "    (h): ModuleList(\n",
       "      (0): Block(\n",
       "        (ln_1): LayerNorm((768,), eps=1e-05, elementwise_affine=True)\n",
       "        (attn): CausalSelfAttention(\n",
       "          (c_attn): Linear(in_features=768, out_features=2304, bias=True)\n",
       "          (c_proj): Linear(in_features=768, out_features=768, bias=True)\n",
       "        )\n",
       "        (ln_2): LayerNorm((768,), eps=1e-05, elementwise_affine=True)\n",
       "        (mlp): MLP(\n",
       "          (c_fc): Linear(in_features=768, out_features=3072, bias=True)\n",
       "          (gelu): GELU(approximate=tanh)\n",
       "          (c_proj): Linear(in_features=3072, out_features=768, bias=True)\n",
       "        )\n",
       "      )\n",
       "      (1): Block(\n",
       "        (ln_1): LayerNorm((768,), eps=1e-05, elementwise_affine=True)\n",
       "        (attn): CausalSelfAttention(\n",
       "          (c_attn): Linear(in_features=768, out_features=2304, bias=True)\n",
       "          (c_proj): Linear(in_features=768, out_features=768, bias=True)\n",
       "        )\n",
       "        (ln_2): LayerNorm((768,), eps=1e-05, elementwise_affine=True)\n",
       "        (mlp): MLP(\n",
       "          (c_fc): Linear(in_features=768, out_features=3072, bias=True)\n",
       "          (gelu): GELU(approximate=tanh)\n",
       "          (c_proj): Linear(in_features=3072, out_features=768, bias=True)\n",
       "        )\n",
       "      )\n",
       "      (2): Block(\n",
       "        (ln_1): LayerNorm((768,), eps=1e-05, elementwise_affine=True)\n",
       "        (attn): CausalSelfAttention(\n",
       "          (c_attn): Linear(in_features=768, out_features=2304, bias=True)\n",
       "          (c_proj): Linear(in_features=768, out_features=768, bias=True)\n",
       "        )\n",
       "        (ln_2): LayerNorm((768,), eps=1e-05, elementwise_affine=True)\n",
       "        (mlp): MLP(\n",
       "          (c_fc): Linear(in_features=768, out_features=3072, bias=True)\n",
       "          (gelu): GELU(approximate=tanh)\n",
       "          (c_proj): Linear(in_features=3072, out_features=768, bias=True)\n",
       "        )\n",
       "      )\n",
       "      (3): Block(\n",
       "        (ln_1): LayerNorm((768,), eps=1e-05, elementwise_affine=True)\n",
       "        (attn): CausalSelfAttention(\n",
       "          (c_attn): Linear(in_features=768, out_features=2304, bias=True)\n",
       "          (c_proj): Linear(in_features=768, out_features=768, bias=True)\n",
       "        )\n",
       "        (ln_2): LayerNorm((768,), eps=1e-05, elementwise_affine=True)\n",
       "        (mlp): MLP(\n",
       "          (c_fc): Linear(in_features=768, out_features=3072, bias=True)\n",
       "          (gelu): GELU(approximate=tanh)\n",
       "          (c_proj): Linear(in_features=3072, out_features=768, bias=True)\n",
       "        )\n",
       "      )\n",
       "      (4): Block(\n",
       "        (ln_1): LayerNorm((768,), eps=1e-05, elementwise_affine=True)\n",
       "        (attn): CausalSelfAttention(\n",
       "          (c_attn): Linear(in_features=768, out_features=2304, bias=True)\n",
       "          (c_proj): Linear(in_features=768, out_features=768, bias=True)\n",
       "        )\n",
       "        (ln_2): LayerNorm((768,), eps=1e-05, elementwise_affine=True)\n",
       "        (mlp): MLP(\n",
       "          (c_fc): Linear(in_features=768, out_features=3072, bias=True)\n",
       "          (gelu): GELU(approximate=tanh)\n",
       "          (c_proj): Linear(in_features=3072, out_features=768, bias=True)\n",
       "        )\n",
       "      )\n",
       "      (5): Block(\n",
       "        (ln_1): LayerNorm((768,), eps=1e-05, elementwise_affine=True)\n",
       "        (attn): CausalSelfAttention(\n",
       "          (c_attn): Linear(in_features=768, out_features=2304, bias=True)\n",
       "          (c_proj): Linear(in_features=768, out_features=768, bias=True)\n",
       "        )\n",
       "        (ln_2): LayerNorm((768,), eps=1e-05, elementwise_affine=True)\n",
       "        (mlp): MLP(\n",
       "          (c_fc): Linear(in_features=768, out_features=3072, bias=True)\n",
       "          (gelu): GELU(approximate=tanh)\n",
       "          (c_proj): Linear(in_features=3072, out_features=768, bias=True)\n",
       "        )\n",
       "      )\n",
       "      (6): Block(\n",
       "        (ln_1): LayerNorm((768,), eps=1e-05, elementwise_affine=True)\n",
       "        (attn): CausalSelfAttention(\n",
       "          (c_attn): Linear(in_features=768, out_features=2304, bias=True)\n",
       "          (c_proj): Linear(in_features=768, out_features=768, bias=True)\n",
       "        )\n",
       "        (ln_2): LayerNorm((768,), eps=1e-05, elementwise_affine=True)\n",
       "        (mlp): MLP(\n",
       "          (c_fc): Linear(in_features=768, out_features=3072, bias=True)\n",
       "          (gelu): GELU(approximate=tanh)\n",
       "          (c_proj): Linear(in_features=3072, out_features=768, bias=True)\n",
       "        )\n",
       "      )\n",
       "      (7): Block(\n",
       "        (ln_1): LayerNorm((768,), eps=1e-05, elementwise_affine=True)\n",
       "        (attn): CausalSelfAttention(\n",
       "          (c_attn): Linear(in_features=768, out_features=2304, bias=True)\n",
       "          (c_proj): Linear(in_features=768, out_features=768, bias=True)\n",
       "        )\n",
       "        (ln_2): LayerNorm((768,), eps=1e-05, elementwise_affine=True)\n",
       "        (mlp): MLP(\n",
       "          (c_fc): Linear(in_features=768, out_features=3072, bias=True)\n",
       "          (gelu): GELU(approximate=tanh)\n",
       "          (c_proj): Linear(in_features=3072, out_features=768, bias=True)\n",
       "        )\n",
       "      )\n",
       "      (8): Block(\n",
       "        (ln_1): LayerNorm((768,), eps=1e-05, elementwise_affine=True)\n",
       "        (attn): CausalSelfAttention(\n",
       "          (c_attn): Linear(in_features=768, out_features=2304, bias=True)\n",
       "          (c_proj): Linear(in_features=768, out_features=768, bias=True)\n",
       "        )\n",
       "        (ln_2): LayerNorm((768,), eps=1e-05, elementwise_affine=True)\n",
       "        (mlp): MLP(\n",
       "          (c_fc): Linear(in_features=768, out_features=3072, bias=True)\n",
       "          (gelu): GELU(approximate=tanh)\n",
       "          (c_proj): Linear(in_features=3072, out_features=768, bias=True)\n",
       "        )\n",
       "      )\n",
       "      (9): Block(\n",
       "        (ln_1): LayerNorm((768,), eps=1e-05, elementwise_affine=True)\n",
       "        (attn): CausalSelfAttention(\n",
       "          (c_attn): Linear(in_features=768, out_features=2304, bias=True)\n",
       "          (c_proj): Linear(in_features=768, out_features=768, bias=True)\n",
       "        )\n",
       "        (ln_2): LayerNorm((768,), eps=1e-05, elementwise_affine=True)\n",
       "        (mlp): MLP(\n",
       "          (c_fc): Linear(in_features=768, out_features=3072, bias=True)\n",
       "          (gelu): GELU(approximate=tanh)\n",
       "          (c_proj): Linear(in_features=3072, out_features=768, bias=True)\n",
       "        )\n",
       "      )\n",
       "      (10): Block(\n",
       "        (ln_1): LayerNorm((768,), eps=1e-05, elementwise_affine=True)\n",
       "        (attn): CausalSelfAttention(\n",
       "          (c_attn): Linear(in_features=768, out_features=2304, bias=True)\n",
       "          (c_proj): Linear(in_features=768, out_features=768, bias=True)\n",
       "        )\n",
       "        (ln_2): LayerNorm((768,), eps=1e-05, elementwise_affine=True)\n",
       "        (mlp): MLP(\n",
       "          (c_fc): Linear(in_features=768, out_features=3072, bias=True)\n",
       "          (gelu): GELU(approximate=tanh)\n",
       "          (c_proj): Linear(in_features=3072, out_features=768, bias=True)\n",
       "        )\n",
       "      )\n",
       "      (11): Block(\n",
       "        (ln_1): LayerNorm((768,), eps=1e-05, elementwise_affine=True)\n",
       "        (attn): CausalSelfAttention(\n",
       "          (c_attn): Linear(in_features=768, out_features=2304, bias=True)\n",
       "          (c_proj): Linear(in_features=768, out_features=768, bias=True)\n",
       "        )\n",
       "        (ln_2): LayerNorm((768,), eps=1e-05, elementwise_affine=True)\n",
       "        (mlp): MLP(\n",
       "          (c_fc): Linear(in_features=768, out_features=3072, bias=True)\n",
       "          (gelu): GELU(approximate=tanh)\n",
       "          (c_proj): Linear(in_features=3072, out_features=768, bias=True)\n",
       "        )\n",
       "      )\n",
       "    )\n",
       "    (ln_f): LayerNorm((768,), eps=1e-05, elementwise_affine=True)\n",
       "  )\n",
       "  (lm_head): Linear(in_features=768, out_features=50257, bias=False)\n",
       ")"
      ]
     },
     "execution_count": 28,
     "metadata": {},
     "output_type": "execute_result"
    }
   ],
   "source": [
    "model = GPT(GPTConfig())\n",
    "model.eval()\n",
    "model.to(device)"
   ]
  },
  {
   "cell_type": "code",
   "execution_count": 29,
   "id": "f9ed07fc-f259-4e3f-ba5d-ae75d032fc59",
   "metadata": {
    "tags": []
   },
   "outputs": [
    {
     "data": {
      "text/plain": [
       "<torch._C.Generator at 0x7f9b72f025b0>"
      ]
     },
     "execution_count": 29,
     "metadata": {},
     "output_type": "execute_result"
    },
    {
     "name": "stdout",
     "output_type": "stream",
     "text": [
      "> Hello, I'm a language model, not a science. I'm a language designer. I want to write, I want to think. I want\n",
      "> Hello, I'm a language model, I use an English sentence structure, I like words over sentences.\n",
      "\n",
      "\"That's OK I'll look\n",
      "> Hello, I'm a language model, not just another language.\" This isn't a \"language model?\" It's an idea. So far, what\n",
      "> Hello, I'm a language model, not a programming model. I'm not a theoretical computer model - you read that right - because my ideas are\n",
      "> Hello, I'm a language model, I teach myself.\n",
      "\n",
      "I want to know more about how languages work and why they could be used.\n"
     ]
    }
   ],
   "source": [
    "# generate right now x is (B, T) wheer B = 5, T = 8\n",
    "# set the seed to 42\n",
    "torch.manual_seed(42)\n",
    "torch.cuda.manual_seed(42)\n",
    "\n",
    "while x.size(1) < max_length:\n",
    "    with torch.no_grad():\n",
    "        logits_ = model(x) # (B, T, vocab_size)\n",
    "        # take the logits at the last position\n",
    "        logits = logits_[:, -1, :] # (B, vocab_size)\n",
    "        # get the probabilities\n",
    "        probs = F.softmax(logits, dim=-1)\n",
    "        # do top-k sampling of 50 (huggingface pipeline default)\n",
    "        # topk_prob here becomes (5, 50), topk_indices is (5, 50)\n",
    "        topk_probs, topk_indices = torch.topk(probs, 50, dim=-1)\n",
    "        # select a token from the top-k probabilities\n",
    "        ix = torch.multinomial(topk_probs, 1) # (B, 1)\n",
    "        # gather the corresponding indices\n",
    "        xcol = torch.gather(topk_indices, -1, ix) # (B, 1)\n",
    "        # append to the sequence\n",
    "        x = torch.cat([x, xcol], dim=1)\n",
    "# print the generated text\n",
    "for i in range(num_return_sequences):\n",
    "    tokens = x[i, :max_length].tolist()\n",
    "    decoded = enc.decode(tokens)\n",
    "    print(\">\", decoded)"
   ]
  },
  {
   "cell_type": "markdown",
   "id": "54076d6e-2839-4c2e-b21f-caa06af1567f",
   "metadata": {},
   "source": [
    "## 数据集"
   ]
  },
  {
   "cell_type": "code",
   "execution_count": 30,
   "id": "ebbe7e46-0c45-4443-b5e5-506bca638dc5",
   "metadata": {
    "tags": []
   },
   "outputs": [],
   "source": [
    "# !wget https://raw.githubusercontent.com/karpathy/char-rnn/master/data/tinyshakespeare/input.txt"
   ]
  },
  {
   "cell_type": "code",
   "execution_count": 31,
   "id": "93d90e37-75c0-4799-bb3d-af52496c4407",
   "metadata": {
    "tags": []
   },
   "outputs": [
    {
     "name": "stdout",
     "output_type": "stream",
     "text": [
      "First Citizen:\n",
      "Before we proceed any further, hear me speak.\n",
      "\n",
      "All:\n",
      "Speak, speak.\n",
      "\n",
      "First Citizen:\n",
      "You\n"
     ]
    }
   ],
   "source": [
    "file = \"./data/input.txt\"\n",
    "with open(file, 'r') as f:\n",
    "    text = f.read()\n",
    "data = text[:1000]\n",
    "print(data[:100])"
   ]
  },
  {
   "cell_type": "code",
   "execution_count": 32,
   "id": "94e93c83-f881-47db-8b28-a038b3229f81",
   "metadata": {
    "tags": []
   },
   "outputs": [],
   "source": [
    "# GPT2的token压缩比大概为3:1，也就是说3个字符相当于一个token"
   ]
  },
  {
   "cell_type": "code",
   "execution_count": 33,
   "id": "7aa99fa2-ff8b-4648-9aae-c619bd03c8e2",
   "metadata": {
    "tags": []
   },
   "outputs": [
    {
     "name": "stdout",
     "output_type": "stream",
     "text": [
      "[5962, 22307, 25, 198, 8421, 356, 5120, 597, 2252, 11, 3285, 502, 2740, 13, 198, 198, 3237, 25, 198, 5248, 461, 11, 2740, 13]\n"
     ]
    }
   ],
   "source": [
    "import tiktoken\n",
    "enc = tiktoken.get_encoding(\"gpt2\")\n",
    "tokens = enc.encode(data)\n",
    "print(tokens[:24])"
   ]
  },
  {
   "cell_type": "markdown",
   "id": "b5984ebc-4c9a-4086-990d-65b6d8d18e5a",
   "metadata": {
    "tags": []
   },
   "source": [
    "## batch"
   ]
  },
  {
   "cell_type": "code",
   "execution_count": 35,
   "id": "d5ad389e-d92d-4178-a568-1ab9a676c4a8",
   "metadata": {
    "tags": []
   },
   "outputs": [
    {
     "name": "stdout",
     "output_type": "stream",
     "text": [
      "tensor([[ 5962, 22307,    25,   198,  8421,   356],\n",
      "        [ 5120,   597,  2252,    11,  3285,   502],\n",
      "        [ 2740,    13,   198,   198,  3237,    25],\n",
      "        [  198,  5248,   461,    11,  2740,    13]])\n"
     ]
    }
   ],
   "source": [
    "import torch\n",
    "buf = torch.tensor(tokens[:24])\n",
    "x = buf.view(4, 6)\n",
    "print(x)"
   ]
  },
  {
   "cell_type": "code",
   "execution_count": 38,
   "id": "53660830-1d88-419f-a12d-bab0efcc4906",
   "metadata": {
    "tags": []
   },
   "outputs": [
    {
     "name": "stdout",
     "output_type": "stream",
     "text": [
      "x = tensor([[ 5962, 22307,    25,   198,  8421,   356],\n",
      "        [ 5120,   597,  2252,    11,  3285,   502],\n",
      "        [ 2740,    13,   198,   198,  3237,    25],\n",
      "        [  198,  5248,   461,    11,  2740,    13]])\n",
      "y = tensor([[22307,    25,   198,  8421,   356,  5120],\n",
      "        [  597,  2252,    11,  3285,   502,  2740],\n",
      "        [   13,   198,   198,  3237,    25,   198],\n",
      "        [ 5248,   461,    11,  2740,    13,   198]])\n"
     ]
    }
   ],
   "source": [
    "buf = torch.tensor(tokens[: 24 + 1])\n",
    "x = buf[:-1].view(4, 6)\n",
    "y = buf[1:].view(4, 6)\n",
    "print(f'{x = }')\n",
    "print(f'{y = }')"
   ]
  },
  {
   "cell_type": "code",
   "execution_count": 41,
   "id": "0b3444af-3fd5-40e5-9808-5dc189026663",
   "metadata": {
    "tags": []
   },
   "outputs": [],
   "source": [
    "text = text[:1000]\n",
    "tokens = enc.encode(text)\n",
    "B, T = 4,32\n",
    "buf = torch.tensor(tokens[: B*T+1])\n",
    "x = buf[:-1].view(B, T)\n",
    "y = buf[1:].view(B, T)"
   ]
  },
  {
   "cell_type": "markdown",
   "id": "e3060a8c-be21-4e38-b829-afb743e0949a",
   "metadata": {},
   "source": [
    "## 训练"
   ]
  },
  {
   "cell_type": "code",
   "execution_count": 47,
   "id": "43598e9b-b4a1-4958-a034-38ee0c376ae7",
   "metadata": {
    "collapsed": true,
    "jupyter": {
     "outputs_hidden": true
    },
    "tags": []
   },
   "outputs": [],
   "source": [
    "model = GPT(GPTConfig())\n",
    "model.to(device)"
   ]
  },
  {
   "cell_type": "code",
   "execution_count": 48,
   "id": "aa8777a5-c4fc-4409-a3ca-eb736b1756ea",
   "metadata": {
    "tags": []
   },
   "outputs": [
    {
     "name": "stdout",
     "output_type": "stream",
     "text": [
      "torch.Size([4, 32, 50257])\n"
     ]
    }
   ],
   "source": [
    "logits = model(x)\n",
    "print(logits.shape)"
   ]
  },
  {
   "cell_type": "markdown",
   "id": "66735601-67df-4faa-a6c8-cce3bf1714d7",
   "metadata": {},
   "source": [
    "## 修改GPT，以便支持对loss的计算"
   ]
  },
  {
   "cell_type": "code",
   "execution_count": 56,
   "id": "a799f79f-7e62-4992-923f-400ddd038cad",
   "metadata": {
    "tags": []
   },
   "outputs": [],
   "source": [
    "class GPT(nn.Module):\n",
    "    \n",
    "    def __init__(self, config):\n",
    "        super().__init__()\n",
    "        self.config = config\n",
    "        \n",
    "        self.transformer = nn.ModuleDict(dict(\n",
    "            wte = nn.Embedding(config.vocab_size, config.n_embd) # Word Token Embedding\n",
    "           ,wpe = nn.Embedding(config.block_size, config.n_embd) # Word Position Embedding\n",
    "           ,h = nn.ModuleList([Block(config) for _ in range(config.n_layer)]) # Block\n",
    "           ,ln_f = nn.LayerNorm(config.n_embd) # Layer Normalization\n",
    "            ))\n",
    "        self.lm_head = nn.Linear(config.n_embd, config.vocab_size, bias=False) # Head\n",
    "    \n",
    "    def forward(self, idx, targets=None):\n",
    "        # idx is of shape (B, T)\n",
    "        B, T = idx.size()\n",
    "        assert T <= self.config.block_size, f\"Cannot forward sequence of length {T}, block size is only {self.config.block_size}\"\n",
    "        # forward the token and position embeddings\n",
    "        pos = torch.arange(0, T, dtype=torch.long, device=idx.device) # shpe (T)\n",
    "        pos_emb = self.transformer.wpe(pos) # position embedding of shape (T, n_embd)\n",
    "        tok_emb = self.transformer.wte(idx) # token embedding of shape (B, T, n_embd)\n",
    "        x = tok_emb + pos_emb\n",
    "        # forward the blocks of the transformer\n",
    "        for block in self.transformer.h:\n",
    "            x = block(x)\n",
    "        # forward the final layernorm and the classifier\n",
    "        x = self.transformer.ln_f(x)\n",
    "        logits = self.lm_head(x) # (B, T, vocab_size)\n",
    "        loss = None\n",
    "        if targets is not None:\n",
    "            loss = F.cross_entropy(logits.view(-1, logits.size(-1)), targets.view(-1))\n",
    "        return logits, loss\n",
    "        \n",
    "    \n",
    "    @classmethod\n",
    "    def from_pretrained(cls, model_type):\n",
    "        \"\"\"Loads pretrained GPT-2 model weights from huggingface\"\"\"\n",
    "        assert model_type in (\"gpt2\", \"gpt2-medium\", \"gpt2-large\", \"gpt2-xl\")\n",
    "        from transformers import GPT2LMHeadModel\n",
    "        print(\"loading weights from pretrained gpt: %s\" % model_type)\n",
    "        \n",
    "        # n_layer, n_head and n_embd are determined from model_type\n",
    "        config_args = {\n",
    "            'gpt2':       dict(n_layer = 12, n_head = 12, n_embd = 768 ) # 124M\n",
    "           ,'gpt2-medium': dict(n_layer = 24, n_head = 16, n_embd = 1024) # 350M\n",
    "           ,'gpt2-large': dict(n_layer = 36, n_head = 20, n_embd = 1280) # 774M\n",
    "           ,'gpt2-xl':    dict(n_layer = 48, n_head = 25, n_embd = 1680) # 1558M        \n",
    "            }[model_type]\n",
    "        config_args['vocab_size'] = 50257 # always 50257 for GPT model checkpoints\n",
    "        config_args['block_size'] = 1024 # always 1024 for GPT model checkpoints\n",
    "        \n",
    "        # creaate a from-scratch initialized minGPT model\n",
    "        config = GPTConfig(**config_args)\n",
    "        \n",
    "        model = GPT(config)\n",
    "        sd = model.state_dict()\n",
    "        sd_keys = sd.keys()\n",
    "        sd_keys = [k for k in sd_keys if not k.endswith('.attn.bias')] # discard this mask / buffer, not a param\n",
    "        \n",
    "        # init a huggingface/transformers model\n",
    "        model_hf = GPT2LMHeadModel.from_pretrained(model_type)\n",
    "        sd_hf = model_hf.state_dict()\n",
    "        \n",
    "        # copy while ensuring all of the parameters are aligned and match in names and shapes\n",
    "        sd_keys_hf = sd_hf.keys()\n",
    "        sd_keys_hf = [k for k in sd_keys_hf if not k.endswith('.attn.masked_bias')] # ignore these, just buffer\n",
    "        sd_keys_hf = [k for k in sd_keys_hf if not k.endswith('.attn.bias')] # same, just mask(buffer)\n",
    "        transposed = ['.attn.c_attn.weight', 'attn.c_proj.weight', 'mlp.c_fc.weight', 'mlp.c_proj.weight']\n",
    "        # basically the openai checkpoints use a \"Conv1D\" module, but we only want to use a vanilla Linear\n",
    "        # this means that we have to transpose these weights when we import them\n",
    "        assert len(sd_keys_hf) == len(sd_keys), f\"mismatched keys: {len(sd_keys_hf)} != {len(sd_keys)}\"\n",
    "        for k in sd_keys_hf:\n",
    "            if any(k.endswith(w) for w in transposed):\n",
    "                # special treatment for the Conv1D weights we need to transpose\n",
    "                assert sd_hf[k].shape[::-1] == sd[k].shape\n",
    "                with torch.no_grad():\n",
    "                    sd[k].copy_(sd_hf[k].t())\n",
    "                    \n",
    "            else:\n",
    "                # vanilla copy over the other parameters\n",
    "                assert sd_hf[k].shape == sd[k].shape\n",
    "                with torch.no_grad():\n",
    "                    sd[k].copy_(sd_hf[k])\n",
    "        return model"
   ]
  },
  {
   "cell_type": "code",
   "execution_count": 58,
   "id": "9ddb8ca9-21cd-4eaf-b59f-6912b3031cf1",
   "metadata": {
    "collapsed": true,
    "jupyter": {
     "outputs_hidden": true
    },
    "tags": []
   },
   "outputs": [
    {
     "data": {
      "text/plain": [
       "GPT(\n",
       "  (transformer): ModuleDict(\n",
       "    (wte): Embedding(50257, 768)\n",
       "    (wpe): Embedding(1024, 768)\n",
       "    (h): ModuleList(\n",
       "      (0): Block(\n",
       "        (ln_1): LayerNorm((768,), eps=1e-05, elementwise_affine=True)\n",
       "        (attn): CausalSelfAttention(\n",
       "          (c_attn): Linear(in_features=768, out_features=2304, bias=True)\n",
       "          (c_proj): Linear(in_features=768, out_features=768, bias=True)\n",
       "        )\n",
       "        (ln_2): LayerNorm((768,), eps=1e-05, elementwise_affine=True)\n",
       "        (mlp): MLP(\n",
       "          (c_fc): Linear(in_features=768, out_features=3072, bias=True)\n",
       "          (gelu): GELU(approximate=tanh)\n",
       "          (c_proj): Linear(in_features=3072, out_features=768, bias=True)\n",
       "        )\n",
       "      )\n",
       "      (1): Block(\n",
       "        (ln_1): LayerNorm((768,), eps=1e-05, elementwise_affine=True)\n",
       "        (attn): CausalSelfAttention(\n",
       "          (c_attn): Linear(in_features=768, out_features=2304, bias=True)\n",
       "          (c_proj): Linear(in_features=768, out_features=768, bias=True)\n",
       "        )\n",
       "        (ln_2): LayerNorm((768,), eps=1e-05, elementwise_affine=True)\n",
       "        (mlp): MLP(\n",
       "          (c_fc): Linear(in_features=768, out_features=3072, bias=True)\n",
       "          (gelu): GELU(approximate=tanh)\n",
       "          (c_proj): Linear(in_features=3072, out_features=768, bias=True)\n",
       "        )\n",
       "      )\n",
       "      (2): Block(\n",
       "        (ln_1): LayerNorm((768,), eps=1e-05, elementwise_affine=True)\n",
       "        (attn): CausalSelfAttention(\n",
       "          (c_attn): Linear(in_features=768, out_features=2304, bias=True)\n",
       "          (c_proj): Linear(in_features=768, out_features=768, bias=True)\n",
       "        )\n",
       "        (ln_2): LayerNorm((768,), eps=1e-05, elementwise_affine=True)\n",
       "        (mlp): MLP(\n",
       "          (c_fc): Linear(in_features=768, out_features=3072, bias=True)\n",
       "          (gelu): GELU(approximate=tanh)\n",
       "          (c_proj): Linear(in_features=3072, out_features=768, bias=True)\n",
       "        )\n",
       "      )\n",
       "      (3): Block(\n",
       "        (ln_1): LayerNorm((768,), eps=1e-05, elementwise_affine=True)\n",
       "        (attn): CausalSelfAttention(\n",
       "          (c_attn): Linear(in_features=768, out_features=2304, bias=True)\n",
       "          (c_proj): Linear(in_features=768, out_features=768, bias=True)\n",
       "        )\n",
       "        (ln_2): LayerNorm((768,), eps=1e-05, elementwise_affine=True)\n",
       "        (mlp): MLP(\n",
       "          (c_fc): Linear(in_features=768, out_features=3072, bias=True)\n",
       "          (gelu): GELU(approximate=tanh)\n",
       "          (c_proj): Linear(in_features=3072, out_features=768, bias=True)\n",
       "        )\n",
       "      )\n",
       "      (4): Block(\n",
       "        (ln_1): LayerNorm((768,), eps=1e-05, elementwise_affine=True)\n",
       "        (attn): CausalSelfAttention(\n",
       "          (c_attn): Linear(in_features=768, out_features=2304, bias=True)\n",
       "          (c_proj): Linear(in_features=768, out_features=768, bias=True)\n",
       "        )\n",
       "        (ln_2): LayerNorm((768,), eps=1e-05, elementwise_affine=True)\n",
       "        (mlp): MLP(\n",
       "          (c_fc): Linear(in_features=768, out_features=3072, bias=True)\n",
       "          (gelu): GELU(approximate=tanh)\n",
       "          (c_proj): Linear(in_features=3072, out_features=768, bias=True)\n",
       "        )\n",
       "      )\n",
       "      (5): Block(\n",
       "        (ln_1): LayerNorm((768,), eps=1e-05, elementwise_affine=True)\n",
       "        (attn): CausalSelfAttention(\n",
       "          (c_attn): Linear(in_features=768, out_features=2304, bias=True)\n",
       "          (c_proj): Linear(in_features=768, out_features=768, bias=True)\n",
       "        )\n",
       "        (ln_2): LayerNorm((768,), eps=1e-05, elementwise_affine=True)\n",
       "        (mlp): MLP(\n",
       "          (c_fc): Linear(in_features=768, out_features=3072, bias=True)\n",
       "          (gelu): GELU(approximate=tanh)\n",
       "          (c_proj): Linear(in_features=3072, out_features=768, bias=True)\n",
       "        )\n",
       "      )\n",
       "      (6): Block(\n",
       "        (ln_1): LayerNorm((768,), eps=1e-05, elementwise_affine=True)\n",
       "        (attn): CausalSelfAttention(\n",
       "          (c_attn): Linear(in_features=768, out_features=2304, bias=True)\n",
       "          (c_proj): Linear(in_features=768, out_features=768, bias=True)\n",
       "        )\n",
       "        (ln_2): LayerNorm((768,), eps=1e-05, elementwise_affine=True)\n",
       "        (mlp): MLP(\n",
       "          (c_fc): Linear(in_features=768, out_features=3072, bias=True)\n",
       "          (gelu): GELU(approximate=tanh)\n",
       "          (c_proj): Linear(in_features=3072, out_features=768, bias=True)\n",
       "        )\n",
       "      )\n",
       "      (7): Block(\n",
       "        (ln_1): LayerNorm((768,), eps=1e-05, elementwise_affine=True)\n",
       "        (attn): CausalSelfAttention(\n",
       "          (c_attn): Linear(in_features=768, out_features=2304, bias=True)\n",
       "          (c_proj): Linear(in_features=768, out_features=768, bias=True)\n",
       "        )\n",
       "        (ln_2): LayerNorm((768,), eps=1e-05, elementwise_affine=True)\n",
       "        (mlp): MLP(\n",
       "          (c_fc): Linear(in_features=768, out_features=3072, bias=True)\n",
       "          (gelu): GELU(approximate=tanh)\n",
       "          (c_proj): Linear(in_features=3072, out_features=768, bias=True)\n",
       "        )\n",
       "      )\n",
       "      (8): Block(\n",
       "        (ln_1): LayerNorm((768,), eps=1e-05, elementwise_affine=True)\n",
       "        (attn): CausalSelfAttention(\n",
       "          (c_attn): Linear(in_features=768, out_features=2304, bias=True)\n",
       "          (c_proj): Linear(in_features=768, out_features=768, bias=True)\n",
       "        )\n",
       "        (ln_2): LayerNorm((768,), eps=1e-05, elementwise_affine=True)\n",
       "        (mlp): MLP(\n",
       "          (c_fc): Linear(in_features=768, out_features=3072, bias=True)\n",
       "          (gelu): GELU(approximate=tanh)\n",
       "          (c_proj): Linear(in_features=3072, out_features=768, bias=True)\n",
       "        )\n",
       "      )\n",
       "      (9): Block(\n",
       "        (ln_1): LayerNorm((768,), eps=1e-05, elementwise_affine=True)\n",
       "        (attn): CausalSelfAttention(\n",
       "          (c_attn): Linear(in_features=768, out_features=2304, bias=True)\n",
       "          (c_proj): Linear(in_features=768, out_features=768, bias=True)\n",
       "        )\n",
       "        (ln_2): LayerNorm((768,), eps=1e-05, elementwise_affine=True)\n",
       "        (mlp): MLP(\n",
       "          (c_fc): Linear(in_features=768, out_features=3072, bias=True)\n",
       "          (gelu): GELU(approximate=tanh)\n",
       "          (c_proj): Linear(in_features=3072, out_features=768, bias=True)\n",
       "        )\n",
       "      )\n",
       "      (10): Block(\n",
       "        (ln_1): LayerNorm((768,), eps=1e-05, elementwise_affine=True)\n",
       "        (attn): CausalSelfAttention(\n",
       "          (c_attn): Linear(in_features=768, out_features=2304, bias=True)\n",
       "          (c_proj): Linear(in_features=768, out_features=768, bias=True)\n",
       "        )\n",
       "        (ln_2): LayerNorm((768,), eps=1e-05, elementwise_affine=True)\n",
       "        (mlp): MLP(\n",
       "          (c_fc): Linear(in_features=768, out_features=3072, bias=True)\n",
       "          (gelu): GELU(approximate=tanh)\n",
       "          (c_proj): Linear(in_features=3072, out_features=768, bias=True)\n",
       "        )\n",
       "      )\n",
       "      (11): Block(\n",
       "        (ln_1): LayerNorm((768,), eps=1e-05, elementwise_affine=True)\n",
       "        (attn): CausalSelfAttention(\n",
       "          (c_attn): Linear(in_features=768, out_features=2304, bias=True)\n",
       "          (c_proj): Linear(in_features=768, out_features=768, bias=True)\n",
       "        )\n",
       "        (ln_2): LayerNorm((768,), eps=1e-05, elementwise_affine=True)\n",
       "        (mlp): MLP(\n",
       "          (c_fc): Linear(in_features=768, out_features=3072, bias=True)\n",
       "          (gelu): GELU(approximate=tanh)\n",
       "          (c_proj): Linear(in_features=3072, out_features=768, bias=True)\n",
       "        )\n",
       "      )\n",
       "    )\n",
       "    (ln_f): LayerNorm((768,), eps=1e-05, elementwise_affine=True)\n",
       "  )\n",
       "  (lm_head): Linear(in_features=768, out_features=50257, bias=False)\n",
       ")"
      ]
     },
     "execution_count": 58,
     "metadata": {},
     "output_type": "execute_result"
    },
    {
     "data": {
      "text/plain": [
       "GPT(\n",
       "  (transformer): ModuleDict(\n",
       "    (wte): Embedding(50257, 768)\n",
       "    (wpe): Embedding(1024, 768)\n",
       "    (h): ModuleList(\n",
       "      (0): Block(\n",
       "        (ln_1): LayerNorm((768,), eps=1e-05, elementwise_affine=True)\n",
       "        (attn): CausalSelfAttention(\n",
       "          (c_attn): Linear(in_features=768, out_features=2304, bias=True)\n",
       "          (c_proj): Linear(in_features=768, out_features=768, bias=True)\n",
       "        )\n",
       "        (ln_2): LayerNorm((768,), eps=1e-05, elementwise_affine=True)\n",
       "        (mlp): MLP(\n",
       "          (c_fc): Linear(in_features=768, out_features=3072, bias=True)\n",
       "          (gelu): GELU(approximate=tanh)\n",
       "          (c_proj): Linear(in_features=3072, out_features=768, bias=True)\n",
       "        )\n",
       "      )\n",
       "      (1): Block(\n",
       "        (ln_1): LayerNorm((768,), eps=1e-05, elementwise_affine=True)\n",
       "        (attn): CausalSelfAttention(\n",
       "          (c_attn): Linear(in_features=768, out_features=2304, bias=True)\n",
       "          (c_proj): Linear(in_features=768, out_features=768, bias=True)\n",
       "        )\n",
       "        (ln_2): LayerNorm((768,), eps=1e-05, elementwise_affine=True)\n",
       "        (mlp): MLP(\n",
       "          (c_fc): Linear(in_features=768, out_features=3072, bias=True)\n",
       "          (gelu): GELU(approximate=tanh)\n",
       "          (c_proj): Linear(in_features=3072, out_features=768, bias=True)\n",
       "        )\n",
       "      )\n",
       "      (2): Block(\n",
       "        (ln_1): LayerNorm((768,), eps=1e-05, elementwise_affine=True)\n",
       "        (attn): CausalSelfAttention(\n",
       "          (c_attn): Linear(in_features=768, out_features=2304, bias=True)\n",
       "          (c_proj): Linear(in_features=768, out_features=768, bias=True)\n",
       "        )\n",
       "        (ln_2): LayerNorm((768,), eps=1e-05, elementwise_affine=True)\n",
       "        (mlp): MLP(\n",
       "          (c_fc): Linear(in_features=768, out_features=3072, bias=True)\n",
       "          (gelu): GELU(approximate=tanh)\n",
       "          (c_proj): Linear(in_features=3072, out_features=768, bias=True)\n",
       "        )\n",
       "      )\n",
       "      (3): Block(\n",
       "        (ln_1): LayerNorm((768,), eps=1e-05, elementwise_affine=True)\n",
       "        (attn): CausalSelfAttention(\n",
       "          (c_attn): Linear(in_features=768, out_features=2304, bias=True)\n",
       "          (c_proj): Linear(in_features=768, out_features=768, bias=True)\n",
       "        )\n",
       "        (ln_2): LayerNorm((768,), eps=1e-05, elementwise_affine=True)\n",
       "        (mlp): MLP(\n",
       "          (c_fc): Linear(in_features=768, out_features=3072, bias=True)\n",
       "          (gelu): GELU(approximate=tanh)\n",
       "          (c_proj): Linear(in_features=3072, out_features=768, bias=True)\n",
       "        )\n",
       "      )\n",
       "      (4): Block(\n",
       "        (ln_1): LayerNorm((768,), eps=1e-05, elementwise_affine=True)\n",
       "        (attn): CausalSelfAttention(\n",
       "          (c_attn): Linear(in_features=768, out_features=2304, bias=True)\n",
       "          (c_proj): Linear(in_features=768, out_features=768, bias=True)\n",
       "        )\n",
       "        (ln_2): LayerNorm((768,), eps=1e-05, elementwise_affine=True)\n",
       "        (mlp): MLP(\n",
       "          (c_fc): Linear(in_features=768, out_features=3072, bias=True)\n",
       "          (gelu): GELU(approximate=tanh)\n",
       "          (c_proj): Linear(in_features=3072, out_features=768, bias=True)\n",
       "        )\n",
       "      )\n",
       "      (5): Block(\n",
       "        (ln_1): LayerNorm((768,), eps=1e-05, elementwise_affine=True)\n",
       "        (attn): CausalSelfAttention(\n",
       "          (c_attn): Linear(in_features=768, out_features=2304, bias=True)\n",
       "          (c_proj): Linear(in_features=768, out_features=768, bias=True)\n",
       "        )\n",
       "        (ln_2): LayerNorm((768,), eps=1e-05, elementwise_affine=True)\n",
       "        (mlp): MLP(\n",
       "          (c_fc): Linear(in_features=768, out_features=3072, bias=True)\n",
       "          (gelu): GELU(approximate=tanh)\n",
       "          (c_proj): Linear(in_features=3072, out_features=768, bias=True)\n",
       "        )\n",
       "      )\n",
       "      (6): Block(\n",
       "        (ln_1): LayerNorm((768,), eps=1e-05, elementwise_affine=True)\n",
       "        (attn): CausalSelfAttention(\n",
       "          (c_attn): Linear(in_features=768, out_features=2304, bias=True)\n",
       "          (c_proj): Linear(in_features=768, out_features=768, bias=True)\n",
       "        )\n",
       "        (ln_2): LayerNorm((768,), eps=1e-05, elementwise_affine=True)\n",
       "        (mlp): MLP(\n",
       "          (c_fc): Linear(in_features=768, out_features=3072, bias=True)\n",
       "          (gelu): GELU(approximate=tanh)\n",
       "          (c_proj): Linear(in_features=3072, out_features=768, bias=True)\n",
       "        )\n",
       "      )\n",
       "      (7): Block(\n",
       "        (ln_1): LayerNorm((768,), eps=1e-05, elementwise_affine=True)\n",
       "        (attn): CausalSelfAttention(\n",
       "          (c_attn): Linear(in_features=768, out_features=2304, bias=True)\n",
       "          (c_proj): Linear(in_features=768, out_features=768, bias=True)\n",
       "        )\n",
       "        (ln_2): LayerNorm((768,), eps=1e-05, elementwise_affine=True)\n",
       "        (mlp): MLP(\n",
       "          (c_fc): Linear(in_features=768, out_features=3072, bias=True)\n",
       "          (gelu): GELU(approximate=tanh)\n",
       "          (c_proj): Linear(in_features=3072, out_features=768, bias=True)\n",
       "        )\n",
       "      )\n",
       "      (8): Block(\n",
       "        (ln_1): LayerNorm((768,), eps=1e-05, elementwise_affine=True)\n",
       "        (attn): CausalSelfAttention(\n",
       "          (c_attn): Linear(in_features=768, out_features=2304, bias=True)\n",
       "          (c_proj): Linear(in_features=768, out_features=768, bias=True)\n",
       "        )\n",
       "        (ln_2): LayerNorm((768,), eps=1e-05, elementwise_affine=True)\n",
       "        (mlp): MLP(\n",
       "          (c_fc): Linear(in_features=768, out_features=3072, bias=True)\n",
       "          (gelu): GELU(approximate=tanh)\n",
       "          (c_proj): Linear(in_features=3072, out_features=768, bias=True)\n",
       "        )\n",
       "      )\n",
       "      (9): Block(\n",
       "        (ln_1): LayerNorm((768,), eps=1e-05, elementwise_affine=True)\n",
       "        (attn): CausalSelfAttention(\n",
       "          (c_attn): Linear(in_features=768, out_features=2304, bias=True)\n",
       "          (c_proj): Linear(in_features=768, out_features=768, bias=True)\n",
       "        )\n",
       "        (ln_2): LayerNorm((768,), eps=1e-05, elementwise_affine=True)\n",
       "        (mlp): MLP(\n",
       "          (c_fc): Linear(in_features=768, out_features=3072, bias=True)\n",
       "          (gelu): GELU(approximate=tanh)\n",
       "          (c_proj): Linear(in_features=3072, out_features=768, bias=True)\n",
       "        )\n",
       "      )\n",
       "      (10): Block(\n",
       "        (ln_1): LayerNorm((768,), eps=1e-05, elementwise_affine=True)\n",
       "        (attn): CausalSelfAttention(\n",
       "          (c_attn): Linear(in_features=768, out_features=2304, bias=True)\n",
       "          (c_proj): Linear(in_features=768, out_features=768, bias=True)\n",
       "        )\n",
       "        (ln_2): LayerNorm((768,), eps=1e-05, elementwise_affine=True)\n",
       "        (mlp): MLP(\n",
       "          (c_fc): Linear(in_features=768, out_features=3072, bias=True)\n",
       "          (gelu): GELU(approximate=tanh)\n",
       "          (c_proj): Linear(in_features=3072, out_features=768, bias=True)\n",
       "        )\n",
       "      )\n",
       "      (11): Block(\n",
       "        (ln_1): LayerNorm((768,), eps=1e-05, elementwise_affine=True)\n",
       "        (attn): CausalSelfAttention(\n",
       "          (c_attn): Linear(in_features=768, out_features=2304, bias=True)\n",
       "          (c_proj): Linear(in_features=768, out_features=768, bias=True)\n",
       "        )\n",
       "        (ln_2): LayerNorm((768,), eps=1e-05, elementwise_affine=True)\n",
       "        (mlp): MLP(\n",
       "          (c_fc): Linear(in_features=768, out_features=3072, bias=True)\n",
       "          (gelu): GELU(approximate=tanh)\n",
       "          (c_proj): Linear(in_features=3072, out_features=768, bias=True)\n",
       "        )\n",
       "      )\n",
       "    )\n",
       "    (ln_f): LayerNorm((768,), eps=1e-05, elementwise_affine=True)\n",
       "  )\n",
       "  (lm_head): Linear(in_features=768, out_features=50257, bias=False)\n",
       ")"
      ]
     },
     "execution_count": 58,
     "metadata": {},
     "output_type": "execute_result"
    }
   ],
   "source": [
    "model = GPT(GPTConfig())\n",
    "model.eval()\n",
    "model.to(device)\n",
    "logits, loss = model(x, y)"
   ]
  },
  {
   "cell_type": "code",
   "execution_count": 59,
   "id": "a1ffa5a1-10b8-4afe-9fef-3e64f1231f56",
   "metadata": {
    "tags": []
   },
   "outputs": [
    {
     "name": "stdout",
     "output_type": "stream",
     "text": [
      "tensor(10.9636, grad_fn=<NllLossBackward0>)\n"
     ]
    }
   ],
   "source": [
    "print(loss)"
   ]
  },
  {
   "cell_type": "markdown",
   "id": "92ae03cc-8a80-4999-a16f-d6e5941f5534",
   "metadata": {},
   "source": [
    "## forward"
   ]
  },
  {
   "cell_type": "code",
   "execution_count": 60,
   "id": "4ba5e85f-e099-47d7-ae50-1b9367dd9782",
   "metadata": {
    "tags": []
   },
   "outputs": [],
   "source": [
    "optimizer = torch.optim.Adam(model.parameters(), lr=3e-4)"
   ]
  },
  {
   "cell_type": "code",
   "execution_count": 61,
   "id": "00747605-d338-427f-a315-121b967e3373",
   "metadata": {
    "tags": []
   },
   "outputs": [
    {
     "name": "stdout",
     "output_type": "stream",
     "text": [
      "step 0, loss: 10.963613510131836\n",
      "step 1, loss: 6.674433708190918\n",
      "step 2, loss: 4.386260509490967\n",
      "step 3, loss: 2.6739444732666016\n",
      "step 4, loss: 1.549945592880249\n",
      "step 5, loss: 0.8876044154167175\n",
      "step 6, loss: 0.5149567127227783\n",
      "step 7, loss: 0.3051791787147522\n",
      "step 8, loss: 0.1932266503572464\n",
      "step 9, loss: 0.12472201883792877\n",
      "step 10, loss: 0.08455658704042435\n",
      "step 11, loss: 0.06230117008090019\n",
      "step 12, loss: 0.04818561673164368\n",
      "step 13, loss: 0.03832600265741348\n",
      "step 14, loss: 0.032372862100601196\n",
      "step 15, loss: 0.0285477451980114\n",
      "step 16, loss: 0.025009455159306526\n",
      "step 17, loss: 0.02159593068063259\n",
      "step 18, loss: 0.018846647813916206\n",
      "step 19, loss: 0.016789335757493973\n",
      "step 20, loss: 0.015150988474488258\n",
      "step 21, loss: 0.013715026900172234\n",
      "step 22, loss: 0.012393004260957241\n",
      "step 23, loss: 0.011183781549334526\n",
      "step 24, loss: 0.010107061825692654\n",
      "step 25, loss: 0.009168700315058231\n",
      "step 26, loss: 0.008360221982002258\n",
      "step 27, loss: 0.007668751757591963\n",
      "step 28, loss: 0.007075328379869461\n",
      "step 29, loss: 0.006564130540937185\n",
      "step 30, loss: 0.0061193229630589485\n",
      "step 31, loss: 0.0057290783151984215\n",
      "step 32, loss: 0.005384172312915325\n",
      "step 33, loss: 0.0050772628746926785\n",
      "step 34, loss: 0.004803270101547241\n",
      "step 35, loss: 0.00455767335370183\n",
      "step 36, loss: 0.004337195307016373\n",
      "step 37, loss: 0.004138447809964418\n",
      "step 38, loss: 0.003959225956350565\n",
      "step 39, loss: 0.0037970184348523617\n",
      "step 40, loss: 0.00364961801096797\n",
      "step 41, loss: 0.003515549935400486\n",
      "step 42, loss: 0.003392888465896249\n",
      "step 43, loss: 0.00328058865852654\n",
      "step 44, loss: 0.003177466569468379\n",
      "step 45, loss: 0.003082430921494961\n",
      "step 46, loss: 0.002994813723489642\n",
      "step 47, loss: 0.002913527190685272\n",
      "step 48, loss: 0.0028378695715218782\n",
      "step 49, loss: 0.0027671679854393005\n"
     ]
    }
   ],
   "source": [
    "for i in range(50):\n",
    "    optimizer.zero_grad()\n",
    "    logits, loss = model(x,y)\n",
    "    loss.backward()\n",
    "    optimizer.step()\n",
    "    print(f\"step {i+1}, loss: {loss.item()}\")"
   ]
  },
  {
   "cell_type": "code",
   "execution_count": null,
   "id": "cc44bb4d-d1ce-434b-96f1-2785bf5f3dea",
   "metadata": {},
   "outputs": [],
   "source": []
  }
 ],
 "metadata": {
  "kernelspec": {
   "display_name": "LLM_env",
   "language": "python",
   "name": "llm_env"
  },
  "language_info": {
   "codemirror_mode": {
    "name": "ipython",
    "version": 3
   },
   "file_extension": ".py",
   "mimetype": "text/x-python",
   "name": "python",
   "nbconvert_exporter": "python",
   "pygments_lexer": "ipython3",
   "version": "3.11.5"
  },
  "toc-autonumbering": true
 },
 "nbformat": 4,
 "nbformat_minor": 5
}
